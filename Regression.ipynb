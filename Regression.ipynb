{
 "cells": [
  {
   "cell_type": "code",
   "execution_count": 138,
   "metadata": {},
   "outputs": [],
   "source": [
    "#libraries installieren\n",
    "import pandas as pd\n",
    "import numpy as np\n",
    "import seaborn as sns\n",
    "import plotly.express as px\n",
    "import plotly.graph_objs as go\n",
    "import plotly.figure_factory as ff\n",
    "from sklearn.model_selection import train_test_split\n",
    "from sklearn.linear_model import LinearRegression\n",
    "from sklearn.metrics import mean_squared_error, r2_score\n",
    "from sklearn.metrics import mean_absolute_error,  median_absolute_error"
   ]
  },
  {
   "cell_type": "code",
   "execution_count": 139,
   "metadata": {},
   "outputs": [
    {
     "data": {
      "text/html": [
       "<div>\n",
       "<style scoped>\n",
       "    .dataframe tbody tr th:only-of-type {\n",
       "        vertical-align: middle;\n",
       "    }\n",
       "\n",
       "    .dataframe tbody tr th {\n",
       "        vertical-align: top;\n",
       "    }\n",
       "\n",
       "    .dataframe thead th {\n",
       "        text-align: right;\n",
       "    }\n",
       "</style>\n",
       "<table border=\"1\" class=\"dataframe\">\n",
       "  <thead>\n",
       "    <tr style=\"text-align: right;\">\n",
       "      <th></th>\n",
       "      <th>Unnamed: 0</th>\n",
       "      <th>ID</th>\n",
       "      <th>Ort</th>\n",
       "      <th>Umkreis</th>\n",
       "      <th>MaxOrt</th>\n",
       "      <th>Preis</th>\n",
       "      <th>Fläche</th>\n",
       "      <th>Zimmer</th>\n",
       "    </tr>\n",
       "  </thead>\n",
       "  <tbody>\n",
       "    <tr>\n",
       "      <th>0</th>\n",
       "      <td>0</td>\n",
       "      <td>28zn659</td>\n",
       "      <td>berlin</td>\n",
       "      <td>50</td>\n",
       "      <td>max. 15 km</td>\n",
       "      <td>7.790.000 €</td>\n",
       "      <td>['780 m²']</td>\n",
       "      <td>['30 Zi.']</td>\n",
       "    </tr>\n",
       "    <tr>\n",
       "      <th>1</th>\n",
       "      <td>1</td>\n",
       "      <td>274he5l</td>\n",
       "      <td>berlin</td>\n",
       "      <td>50</td>\n",
       "      <td>max. 10 km</td>\n",
       "      <td>690.000 €</td>\n",
       "      <td>['323 m²']</td>\n",
       "      <td>['8 Zi.']</td>\n",
       "    </tr>\n",
       "    <tr>\n",
       "      <th>2</th>\n",
       "      <td>2</td>\n",
       "      <td>277z85u</td>\n",
       "      <td>berlin</td>\n",
       "      <td>50</td>\n",
       "      <td>max. 10 km</td>\n",
       "      <td>1.950.000 €</td>\n",
       "      <td>['212.58 m²']</td>\n",
       "      <td>['7 Zi.']</td>\n",
       "    </tr>\n",
       "    <tr>\n",
       "      <th>3</th>\n",
       "      <td>3</td>\n",
       "      <td>26ekx52</td>\n",
       "      <td>berlin</td>\n",
       "      <td>50</td>\n",
       "      <td>max. 10 km</td>\n",
       "      <td>698.000 €</td>\n",
       "      <td>['180 m²']</td>\n",
       "      <td>['4 Zi.']</td>\n",
       "    </tr>\n",
       "    <tr>\n",
       "      <th>4</th>\n",
       "      <td>4</td>\n",
       "      <td>26zkl56</td>\n",
       "      <td>berlin</td>\n",
       "      <td>50</td>\n",
       "      <td>max. 10 km</td>\n",
       "      <td>429.000 €</td>\n",
       "      <td>['97 m²']</td>\n",
       "      <td>['4 Zi.']</td>\n",
       "    </tr>\n",
       "  </tbody>\n",
       "</table>\n",
       "</div>"
      ],
      "text/plain": [
       "   Unnamed: 0       ID     Ort  Umkreis      MaxOrt        Preis  \\\n",
       "0           0  28zn659  berlin       50  max. 15 km  7.790.000 €   \n",
       "1           1  274he5l  berlin       50  max. 10 km    690.000 €   \n",
       "2           2  277z85u  berlin       50  max. 10 km  1.950.000 €   \n",
       "3           3  26ekx52  berlin       50  max. 10 km    698.000 €   \n",
       "4           4  26zkl56  berlin       50  max. 10 km    429.000 €   \n",
       "\n",
       "          Fläche      Zimmer  \n",
       "0     ['780 m²']  ['30 Zi.']  \n",
       "1     ['323 m²']   ['8 Zi.']  \n",
       "2  ['212.58 m²']   ['7 Zi.']  \n",
       "3     ['180 m²']   ['4 Zi.']  \n",
       "4      ['97 m²']   ['4 Zi.']  "
      ]
     },
     "execution_count": 139,
     "metadata": {},
     "output_type": "execute_result"
    }
   ],
   "source": [
    "#csv aus web Analytics einlesen\n",
    "immodf=pd.read_csv(\"Immobilien.csv\")\n",
    "immodf.head()"
   ]
  },
  {
   "cell_type": "code",
   "execution_count": 140,
   "metadata": {},
   "outputs": [
    {
     "name": "stdout",
     "output_type": "stream",
     "text": [
      "<class 'pandas.core.frame.DataFrame'>\n",
      "RangeIndex: 200 entries, 0 to 199\n",
      "Data columns (total 8 columns):\n",
      " #   Column      Non-Null Count  Dtype \n",
      "---  ------      --------------  ----- \n",
      " 0   Unnamed: 0  200 non-null    int64 \n",
      " 1   ID          200 non-null    object\n",
      " 2   Ort         200 non-null    object\n",
      " 3   Umkreis     200 non-null    int64 \n",
      " 4   MaxOrt      200 non-null    object\n",
      " 5   Preis       200 non-null    object\n",
      " 6   Fläche      200 non-null    object\n",
      " 7   Zimmer      200 non-null    object\n",
      "dtypes: int64(2), object(6)\n",
      "memory usage: 12.6+ KB\n"
     ]
    }
   ],
   "source": [
    "immodf.info()"
   ]
  },
  {
   "cell_type": "code",
   "execution_count": 141,
   "metadata": {},
   "outputs": [
    {
     "data": {
      "text/plain": [
       "<AxesSubplot:>"
      ]
     },
     "execution_count": 141,
     "metadata": {},
     "output_type": "execute_result"
    },
    {
     "data": {
      "image/png": "[encoded data removed]",
      "text/plain": [
       "<Figure size 640x480 with 1 Axes>"
      ]
     },
     "metadata": {},
     "output_type": "display_data"
    }
   ],
   "source": [
    "#Nullwerte vorhanden?\n",
    "sns.heatmap(immodf.isnull(), yticklabels=False, cbar=False, cmap='viridis')"
   ]
  },
  {
   "cell_type": "code",
   "execution_count": 142,
   "metadata": {},
   "outputs": [],
   "source": [
    "#Nullwerte ggf. entfernen\n",
    "immodf = immodf.dropna()"
   ]
  },
  {
   "cell_type": "code",
   "execution_count": 143,
   "metadata": {},
   "outputs": [
    {
     "name": "stderr",
     "output_type": "stream",
     "text": [
      "/var/folders/1c/xbr5tqd11kj2_4xtc05ft2dc0000gp/T/ipykernel_19536/2001643243.py:4: FutureWarning: The default value of regex will change from True to False in a future version. In addition, single character regular expressions will *not* be treated as literal strings when regex=True.\n",
      "  immodf['Raeume'] = immodf['Raeume'].str.replace(\".\",\"\")\n",
      "/var/folders/1c/xbr5tqd11kj2_4xtc05ft2dc0000gp/T/ipykernel_19536/2001643243.py:11: FutureWarning: The default value of regex will change from True to False in a future version. In addition, single character regular expressions will *not* be treated as literal strings when regex=True.\n",
      "  immodf['Flaeche'] = immodf['Flaeche'].str.replace(\".\",\"\")\n",
      "/var/folders/1c/xbr5tqd11kj2_4xtc05ft2dc0000gp/T/ipykernel_19536/2001643243.py:16: FutureWarning: The default value of regex will change from True to False in a future version.\n",
      "  immodf[\"MaxOrt\"]=immodf[\"MaxOrt\"].str.replace(\"max. \",\"\")\n",
      "/var/folders/1c/xbr5tqd11kj2_4xtc05ft2dc0000gp/T/ipykernel_19536/2001643243.py:20: FutureWarning: The default value of regex will change from True to False in a future version. In addition, single character regular expressions will *not* be treated as literal strings when regex=True.\n",
      "  immodf[\"Preis\"]=immodf[\"Preis\"].str.replace(\".\",\"\")\n"
     ]
    }
   ],
   "source": [
    "#data preparation\n",
    "immodf['Raeume'] = immodf['Zimmer'].apply(lambda x: x[1:-1])\n",
    "immodf['Raeume'] = immodf['Raeume'].str.replace(\" Zi\",\"\")\n",
    "immodf['Raeume'] = immodf['Raeume'].str.replace(\".\",\"\")\n",
    "immodf['Raeume'] = immodf['Raeume'].str.replace(\"'\",\"\")\n",
    "immodf.loc[:,\"Raeume\"]=pd.to_numeric(immodf[\"Raeume\"])\n",
    "immodf = immodf.drop('Zimmer', axis=1)\n",
    "\n",
    "immodf['Flaeche'] = immodf['Fläche'].apply(lambda x: x[1:-1])\n",
    "immodf['Flaeche'] = immodf['Flaeche'].str.replace(\" m²\",\"\")\n",
    "immodf['Flaeche'] = immodf['Flaeche'].str.replace(\".\",\"\")\n",
    "immodf['Flaeche'] = immodf['Flaeche'].str.replace(\"'\",\"\")\n",
    "immodf.loc[:,\"Flaeche\"]=pd.to_numeric(immodf[\"Flaeche\"])\n",
    "immodf = immodf.drop('Fläche', axis=1)\n",
    "\n",
    "immodf[\"MaxOrt\"]=immodf[\"MaxOrt\"].str.replace(\"max. \",\"\") \n",
    "immodf[\"MaxOrt\"]=immodf[\"MaxOrt\"].str.replace(\" km\",\"\") \n",
    "immodf.loc[:,\"MaxOrt\"]=pd.to_numeric(immodf[\"MaxOrt\"])\n",
    "\n",
    "immodf[\"Preis\"]=immodf[\"Preis\"].str.replace(\".\",\"\")\n",
    "immodf[\"Preis\"]=immodf[\"Preis\"].str.replace(\" €\",\"\")\n",
    "immodf[\"Preis\"]=immodf[\"Preis\"].str.replace(\"auf Anfrage\",\"0\") \n",
    "immodf.loc[:,\"Preis\"]=pd.to_numeric(immodf[\"Preis\"])"
   ]
  },
  {
   "cell_type": "code",
   "execution_count": 146,
   "metadata": {},
   "outputs": [
    {
     "data": {
      "text/html": [
       "<div>\n",
       "<style scoped>\n",
       "    .dataframe tbody tr th:only-of-type {\n",
       "        vertical-align: middle;\n",
       "    }\n",
       "\n",
       "    .dataframe tbody tr th {\n",
       "        vertical-align: top;\n",
       "    }\n",
       "\n",
       "    .dataframe thead th {\n",
       "        text-align: right;\n",
       "    }\n",
       "</style>\n",
       "<table border=\"1\" class=\"dataframe\">\n",
       "  <thead>\n",
       "    <tr style=\"text-align: right;\">\n",
       "      <th></th>\n",
       "      <th>Unnamed: 0</th>\n",
       "      <th>ID</th>\n",
       "      <th>Ort</th>\n",
       "      <th>Umkreis</th>\n",
       "      <th>MaxOrt</th>\n",
       "      <th>Preis</th>\n",
       "      <th>Raeume</th>\n",
       "      <th>Flaeche</th>\n",
       "    </tr>\n",
       "  </thead>\n",
       "  <tbody>\n",
       "    <tr>\n",
       "      <th>0</th>\n",
       "      <td>0</td>\n",
       "      <td>28zn659</td>\n",
       "      <td>berlin</td>\n",
       "      <td>50</td>\n",
       "      <td>15</td>\n",
       "      <td>7790000</td>\n",
       "      <td>30.0</td>\n",
       "      <td>780</td>\n",
       "    </tr>\n",
       "    <tr>\n",
       "      <th>1</th>\n",
       "      <td>1</td>\n",
       "      <td>274he5l</td>\n",
       "      <td>berlin</td>\n",
       "      <td>50</td>\n",
       "      <td>10</td>\n",
       "      <td>690000</td>\n",
       "      <td>8.0</td>\n",
       "      <td>323</td>\n",
       "    </tr>\n",
       "    <tr>\n",
       "      <th>2</th>\n",
       "      <td>2</td>\n",
       "      <td>277z85u</td>\n",
       "      <td>berlin</td>\n",
       "      <td>50</td>\n",
       "      <td>10</td>\n",
       "      <td>1950000</td>\n",
       "      <td>7.0</td>\n",
       "      <td>21258</td>\n",
       "    </tr>\n",
       "    <tr>\n",
       "      <th>3</th>\n",
       "      <td>3</td>\n",
       "      <td>26ekx52</td>\n",
       "      <td>berlin</td>\n",
       "      <td>50</td>\n",
       "      <td>10</td>\n",
       "      <td>698000</td>\n",
       "      <td>4.0</td>\n",
       "      <td>180</td>\n",
       "    </tr>\n",
       "    <tr>\n",
       "      <th>4</th>\n",
       "      <td>4</td>\n",
       "      <td>26zkl56</td>\n",
       "      <td>berlin</td>\n",
       "      <td>50</td>\n",
       "      <td>10</td>\n",
       "      <td>429000</td>\n",
       "      <td>4.0</td>\n",
       "      <td>97</td>\n",
       "    </tr>\n",
       "  </tbody>\n",
       "</table>\n",
       "</div>"
      ],
      "text/plain": [
       "   Unnamed: 0       ID     Ort  Umkreis  MaxOrt    Preis  Raeume  Flaeche\n",
       "0           0  28zn659  berlin       50      15  7790000    30.0      780\n",
       "1           1  274he5l  berlin       50      10   690000     8.0      323\n",
       "2           2  277z85u  berlin       50      10  1950000     7.0    21258\n",
       "3           3  26ekx52  berlin       50      10   698000     4.0      180\n",
       "4           4  26zkl56  berlin       50      10   429000     4.0       97"
      ]
     },
     "execution_count": 146,
     "metadata": {},
     "output_type": "execute_result"
    }
   ],
   "source": [
    "immodf.head()"
   ]
  },
  {
   "cell_type": "code",
   "execution_count": 147,
   "metadata": {},
   "outputs": [
    {
     "name": "stdout",
     "output_type": "stream",
     "text": [
      "<class 'pandas.core.frame.DataFrame'>\n",
      "RangeIndex: 200 entries, 0 to 199\n",
      "Data columns (total 8 columns):\n",
      " #   Column      Non-Null Count  Dtype  \n",
      "---  ------      --------------  -----  \n",
      " 0   Unnamed: 0  200 non-null    int64  \n",
      " 1   ID          200 non-null    object \n",
      " 2   Ort         200 non-null    object \n",
      " 3   Umkreis     200 non-null    int64  \n",
      " 4   MaxOrt      200 non-null    int64  \n",
      " 5   Preis       200 non-null    int64  \n",
      " 6   Raeume      195 non-null    float64\n",
      " 7   Flaeche     200 non-null    int64  \n",
      "dtypes: float64(1), int64(5), object(2)\n",
      "memory usage: 12.6+ KB\n"
     ]
    }
   ],
   "source": [
    "immodf.info()"
   ]
  },
  {
   "cell_type": "code",
   "execution_count": 149,
   "metadata": {},
   "outputs": [
    {
     "name": "stdout",
     "output_type": "stream",
     "text": [
      "<class 'pandas.core.frame.DataFrame'>\n",
      "Int64Index: 197 entries, 0 to 199\n",
      "Data columns (total 8 columns):\n",
      " #   Column      Non-Null Count  Dtype  \n",
      "---  ------      --------------  -----  \n",
      " 0   Unnamed: 0  197 non-null    int64  \n",
      " 1   ID          197 non-null    object \n",
      " 2   Ort         197 non-null    object \n",
      " 3   Umkreis     197 non-null    int64  \n",
      " 4   MaxOrt      197 non-null    int64  \n",
      " 5   Preis       197 non-null    int64  \n",
      " 6   Raeume      192 non-null    float64\n",
      " 7   Flaeche     197 non-null    int64  \n",
      "dtypes: float64(1), int64(5), object(2)\n",
      "memory usage: 13.9+ KB\n"
     ]
    }
   ],
   "source": [
    "#Duplikate entfernen\n",
    "immodf = immodf.drop_duplicates(subset=[\"Ort\", \"Flaeche\", \"Raeume\", \"Preis\"], keep='first')\n",
    "immodf.info()"
   ]
  },
  {
   "cell_type": "code",
   "execution_count": null,
   "metadata": {},
   "outputs": [
    {
     "name": "stdout",
     "output_type": "stream",
     "text": [
      "Unnamed: 0 has 197 unique values\n",
      "ID has 197 unique values\n",
      "Ort has 5 unique values\n",
      "Umkreis has 1 unique values\n",
      "MaxOrt has 8 unique values\n",
      "Preis has 147 unique values\n",
      "Fläche has 158 unique values\n",
      "Zimmer has 29 unique values\n"
     ]
    }
   ],
   "source": [
    "#Einzigartige Werte je Feature\n",
    "for col in immodf.columns:\n",
    "    values = immodf[col].unique()\n",
    "    print(col, \"has\", len(immodf[col].unique()), \"unique values\")"
   ]
  },
  {
   "cell_type": "code",
   "execution_count": null,
   "metadata": {},
   "outputs": [
    {
     "data": {
      "text/plain": [
       "hamburg      40\n",
       "muenchen     40\n",
       "berlin       39\n",
       "koeln        39\n",
       "stuttgart    39\n",
       "Name: Ort, dtype: int64"
      ]
     },
     "execution_count": 54,
     "metadata": {},
     "output_type": "execute_result"
    }
   ],
   "source": [
    "#Wie viele Häuser werden je Stadt betrachtet?\n",
    "immodf[\"Ort\"].value_counts()"
   ]
  },
  {
   "cell_type": "code",
   "execution_count": null,
   "metadata": {},
   "outputs": [
    {
     "data": {
      "text/plain": [
       "['Unnamed: 0', 'Umkreis']"
      ]
     },
     "execution_count": 55,
     "metadata": {},
     "output_type": "execute_result"
    }
   ],
   "source": [
    "#Welche numerischen Features gibt es im dataframe?\n",
    "numeric_features=immodf.select_dtypes(include=np.number).columns.to_list()\n",
    "numeric_features"
   ]
  },
  {
   "cell_type": "code",
   "execution_count": null,
   "metadata": {},
   "outputs": [
    {
     "data": {
      "text/html": [
       "<div>\n",
       "<style scoped>\n",
       "    .dataframe tbody tr th:only-of-type {\n",
       "        vertical-align: middle;\n",
       "    }\n",
       "\n",
       "    .dataframe tbody tr th {\n",
       "        vertical-align: top;\n",
       "    }\n",
       "\n",
       "    .dataframe thead th {\n",
       "        text-align: right;\n",
       "    }\n",
       "</style>\n",
       "<table border=\"1\" class=\"dataframe\">\n",
       "  <thead>\n",
       "    <tr style=\"text-align: right;\">\n",
       "      <th></th>\n",
       "      <th>Unnamed: 0</th>\n",
       "      <th>Umkreis</th>\n",
       "    </tr>\n",
       "  </thead>\n",
       "  <tbody>\n",
       "    <tr>\n",
       "      <th>count</th>\n",
       "      <td>197.000000</td>\n",
       "      <td>197.0</td>\n",
       "    </tr>\n",
       "    <tr>\n",
       "      <th>mean</th>\n",
       "      <td>99.401015</td>\n",
       "      <td>50.0</td>\n",
       "    </tr>\n",
       "    <tr>\n",
       "      <th>std</th>\n",
       "      <td>57.922948</td>\n",
       "      <td>0.0</td>\n",
       "    </tr>\n",
       "    <tr>\n",
       "      <th>min</th>\n",
       "      <td>0.000000</td>\n",
       "      <td>50.0</td>\n",
       "    </tr>\n",
       "    <tr>\n",
       "      <th>25%</th>\n",
       "      <td>50.000000</td>\n",
       "      <td>50.0</td>\n",
       "    </tr>\n",
       "    <tr>\n",
       "      <th>50%</th>\n",
       "      <td>99.000000</td>\n",
       "      <td>50.0</td>\n",
       "    </tr>\n",
       "    <tr>\n",
       "      <th>75%</th>\n",
       "      <td>149.000000</td>\n",
       "      <td>50.0</td>\n",
       "    </tr>\n",
       "    <tr>\n",
       "      <th>max</th>\n",
       "      <td>199.000000</td>\n",
       "      <td>50.0</td>\n",
       "    </tr>\n",
       "  </tbody>\n",
       "</table>\n",
       "</div>"
      ],
      "text/plain": [
       "       Unnamed: 0  Umkreis\n",
       "count  197.000000    197.0\n",
       "mean    99.401015     50.0\n",
       "std     57.922948      0.0\n",
       "min      0.000000     50.0\n",
       "25%     50.000000     50.0\n",
       "50%     99.000000     50.0\n",
       "75%    149.000000     50.0\n",
       "max    199.000000     50.0"
      ]
     },
     "execution_count": 56,
     "metadata": {},
     "output_type": "execute_result"
    }
   ],
   "source": [
    "#numerische Features analysieren\n",
    "immodf.describe()"
   ]
  },
  {
   "cell_type": "code",
   "execution_count": null,
   "metadata": {},
   "outputs": [],
   "source": [
    "#Boxplots und Histogramme"
   ]
  },
  {
   "cell_type": "code",
   "execution_count": null,
   "metadata": {},
   "outputs": [],
   "source": [
    "#Korrelationsmatrix"
   ]
  },
  {
   "cell_type": "code",
   "execution_count": null,
   "metadata": {},
   "outputs": [],
   "source": [
    "#Scattermatrix"
   ]
  },
  {
   "cell_type": "code",
   "execution_count": null,
   "metadata": {},
   "outputs": [],
   "source": [
    "#Spannende Zusammenhänge genauer betrachten (z.B. mit 3D Scatter)"
   ]
  },
  {
   "cell_type": "code",
   "execution_count": null,
   "metadata": {},
   "outputs": [
    {
     "data": {
      "text/plain": [
       "['ID', 'Ort', 'MaxOrt', 'Preis', 'Fläche', 'Zimmer']"
      ]
     },
     "execution_count": 61,
     "metadata": {},
     "output_type": "execute_result"
    }
   ],
   "source": [
    "#Welche kategorialen Features gibt es?\n",
    "cat_features=immodf.select_dtypes(exclude=np.number).columns.to_list()\n",
    "cat_features"
   ]
  },
  {
   "cell_type": "code",
   "execution_count": null,
   "metadata": {},
   "outputs": [],
   "source": [
    "#parallel categories"
   ]
  },
  {
   "cell_type": "code",
   "execution_count": null,
   "metadata": {},
   "outputs": [],
   "source": [
    "#value counts"
   ]
  },
  {
   "cell_type": "code",
   "execution_count": null,
   "metadata": {},
   "outputs": [],
   "source": [
    "#conditional probabilities"
   ]
  },
  {
   "cell_type": "code",
   "execution_count": null,
   "metadata": {},
   "outputs": [],
   "source": [
    "#Zusammenhänge zwischen numerischen und kategorialer Features"
   ]
  },
  {
   "cell_type": "code",
   "execution_count": null,
   "metadata": {},
   "outputs": [],
   "source": [
    "#Preprocessing\n",
    "#One Hot Encoding kategorialer Features"
   ]
  },
  {
   "cell_type": "code",
   "execution_count": null,
   "metadata": {},
   "outputs": [
    {
     "ename": "SyntaxError",
     "evalue": "invalid syntax (2370415036.py, line 2)",
     "output_type": "error",
     "traceback": [
      "\u001b[0;36m  Input \u001b[0;32mIn [67]\u001b[0;36m\u001b[0m\n\u001b[0;31m    X=\u001b[0m\n\u001b[0m      ^\u001b[0m\n\u001b[0;31mSyntaxError\u001b[0m\u001b[0;31m:\u001b[0m invalid syntax\n"
     ]
    }
   ],
   "source": [
    "#Test Train Split\n",
    "X=\n",
    "y=\n",
    "X_train, X_test, y_train, y_test = train_test_split(X, y, test_size=0.3,random_state=0)"
   ]
  },
  {
   "cell_type": "code",
   "execution_count": null,
   "metadata": {},
   "outputs": [],
   "source": [
    "#Regression mit Linear Regression\n",
    "linreg=LinearRegression()\n",
    "linreg.fit(X_train,y_train)"
   ]
  },
  {
   "cell_type": "code",
   "execution_count": null,
   "metadata": {},
   "outputs": [],
   "source": [
    "ypred=linreg.predict(X_test)"
   ]
  },
  {
   "cell_type": "code",
   "execution_count": null,
   "metadata": {},
   "outputs": [],
   "source": [
    "for pred, target in zip(ypred[:10],y_test[:10]):\n",
    "    print(\"Predicted: {0:2.2f} \\t True: {1:2.2f}\".format(pred,target))"
   ]
  },
  {
   "cell_type": "code",
   "execution_count": null,
   "metadata": {},
   "outputs": [],
   "source": [
    "#Evaluation der Regression\n",
    "def determineRegressionMetrics(y_test,y_pred,title=\"\"):\n",
    "    mse = mean_squared_error(y_test, y_pred)\n",
    "    mad = mean_absolute_error(y_test, y_pred)\n",
    "    rmsle=np.sqrt(mean_squared_error(np.log(y_test+1),np.log(y_pred+1)))# +1 for avoiding log(0) \n",
    "    r2=r2_score(y_test, y_pred)\n",
    "    med=median_absolute_error(y_test, y_pred)\n",
    "    print(title)\n",
    "    print(\"Mean absolute error =\", round(mad, 2))\n",
    "    print(\"Mean squared error =\", round(mse, 2))\n",
    "    print(\"Median absolute error =\", round(med, 2))\n",
    "    print(\"R2 score =\", round(r2, 2))\n",
    "    print(\"Root Mean Squared Logarithmic Error =\",rmsle)"
   ]
  },
  {
   "cell_type": "code",
   "execution_count": null,
   "metadata": {},
   "outputs": [],
   "source": [
    "determineRegressionMetrics(y_test,ypred)"
   ]
  },
  {
   "cell_type": "code",
   "execution_count": null,
   "metadata": {},
   "outputs": [],
   "source": [
    "#Visualisierung der Evaluation\n",
    "fig=px.scatter(x=ypred,y=y_test,opacity=0.5,\n",
    "               labels={\"x\":\"predicted charges\",\"y\":\"true charges\"},title=\"True vs. Estimated Charges\")\n",
    "fig.add_trace(go.Line(x=[np.min(y_test),np.max(y_test)],y=[np.min(y_test),np.max(y_test)]))\n",
    "fig.update_traces(marker=dict(size=12))\n",
    "fig.show(\"notebook\")"
   ]
  },
  {
   "cell_type": "code",
   "execution_count": null,
   "metadata": {},
   "outputs": [],
   "source": [
    "#Feature importance\n",
    "importance = linreg.feature_importances_\n",
    "# summarize feature importance\n",
    "for i,v in enumerate(importance):\n",
    "\tprint('Feature: %0d, Score: %.5f' % (i,v))\n",
    "# plot feature importance\n",
    "pyplot.bar([x for x in range(len(importance))], importance)\n",
    "pyplot.show()"
   ]
  },
  {
   "cell_type": "code",
   "execution_count": null,
   "metadata": {},
   "outputs": [],
   "source": [
    "#cross validation\n",
    "linreg_scores = linreg_score(linreg, X_train, y_train, cv = 5)\n",
    "print(\"mean cross validation score: {}\".format(np.mean(linreg_scores)))"
   ]
  },
  {
   "cell_type": "code",
   "execution_count": null,
   "metadata": {},
   "outputs": [],
   "source": [
    "#Regression mit Decision Tree\n",
    "#hier selbe Schritte wie zuvor\n",
    "dtr=DecisionTreeRegressor()\n",
    "dtr.fit(X_train,y_train)"
   ]
  },
  {
   "cell_type": "code",
   "execution_count": null,
   "metadata": {},
   "outputs": [],
   "source": [
    "#Regression mit Gradient Boosting Tree\n",
    "gbr=GradientBoostingRegressor()\n",
    "gbr.fit(X_train,y_train)\n",
    "gbr_scores = cross_val_score(gbr, X_train, y_train, cv = 5)\n",
    "print(\"mean cross validation score: {}\".format(np.mean(gbr_scores)))"
   ]
  },
  {
   "cell_type": "code",
   "execution_count": null,
   "metadata": {},
   "outputs": [],
   "source": [
    "#Pipeline möglich statt alle einzeln?"
   ]
  }
 ],
 "metadata": {
  "kernelspec": {
   "display_name": "Python 3.9.13 ('base')",
   "language": "python",
   "name": "python3"
  },
  "language_info": {
   "codemirror_mode": {
    "name": "ipython",
    "version": 3
   },
   "file_extension": ".py",
   "mimetype": "text/x-python",
   "name": "python",
   "nbconvert_exporter": "python",
   "pygments_lexer": "ipython3",
   "version": "3.9.13"
  },
  "orig_nbformat": 4,
  "vscode": {
   "interpreter": {
    "hash": "40d3a090f54c6569ab1632332b64b2c03c39dcf918b08424e98f38b5ae0af88f"
   }
  }
 },
 "nbformat": 4,
 "nbformat_minor": 2
}
