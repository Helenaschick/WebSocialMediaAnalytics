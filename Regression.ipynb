{
 "cells": [
  {
   "cell_type": "code",
   "execution_count": 1,
   "metadata": {},
   "outputs": [],
   "source": [
    "#libraries installieren\n",
    "import pandas as pd\n",
    "import numpy as np\n",
    "import seaborn as sns\n",
    "import plotly.express as px\n",
    "import plotly.graph_objs as go\n",
    "import plotly.figure_factory as ff\n",
    "from sklearn.model_selection import train_test_split\n",
    "from sklearn.linear_model import LinearRegression\n",
    "from sklearn.metrics import mean_squared_error, r2_score\n",
    "from sklearn.metrics import mean_absolute_error,  median_absolute_error"
   ]
  },
  {
   "cell_type": "code",
   "execution_count": 12,
   "metadata": {},
   "outputs": [
    {
     "data": {
      "text/html": [
       "<div>\n",
       "<style scoped>\n",
       "    .dataframe tbody tr th:only-of-type {\n",
       "        vertical-align: middle;\n",
       "    }\n",
       "\n",
       "    .dataframe tbody tr th {\n",
       "        vertical-align: top;\n",
       "    }\n",
       "\n",
       "    .dataframe thead th {\n",
       "        text-align: right;\n",
       "    }\n",
       "</style>\n",
       "<table border=\"1\" class=\"dataframe\">\n",
       "  <thead>\n",
       "    <tr style=\"text-align: right;\">\n",
       "      <th></th>\n",
       "      <th>Unnamed: 0</th>\n",
       "      <th>ID</th>\n",
       "      <th>Ort</th>\n",
       "      <th>Umkreis</th>\n",
       "      <th>MaxOrt</th>\n",
       "      <th>Preis</th>\n",
       "      <th>Fläche</th>\n",
       "      <th>Zimmer</th>\n",
       "    </tr>\n",
       "  </thead>\n",
       "  <tbody>\n",
       "    <tr>\n",
       "      <th>0</th>\n",
       "      <td>0</td>\n",
       "      <td>28auw54</td>\n",
       "      <td>berlin</td>\n",
       "      <td>50</td>\n",
       "      <td>max. 20 km</td>\n",
       "      <td>2.130.000 €</td>\n",
       "      <td>['906 m²']</td>\n",
       "      <td>[]</td>\n",
       "    </tr>\n",
       "    <tr>\n",
       "      <th>1</th>\n",
       "      <td>1</td>\n",
       "      <td>274he5l</td>\n",
       "      <td>berlin</td>\n",
       "      <td>50</td>\n",
       "      <td>max. 10 km</td>\n",
       "      <td>690.000 €</td>\n",
       "      <td>['323 m²']</td>\n",
       "      <td>['8 Zi.']</td>\n",
       "    </tr>\n",
       "    <tr>\n",
       "      <th>2</th>\n",
       "      <td>2</td>\n",
       "      <td>26ekx52</td>\n",
       "      <td>berlin</td>\n",
       "      <td>50</td>\n",
       "      <td>max. 10 km</td>\n",
       "      <td>698.000 €</td>\n",
       "      <td>['180 m²']</td>\n",
       "      <td>['4 Zi.']</td>\n",
       "    </tr>\n",
       "    <tr>\n",
       "      <th>3</th>\n",
       "      <td>3</td>\n",
       "      <td>26zkl56</td>\n",
       "      <td>berlin</td>\n",
       "      <td>50</td>\n",
       "      <td>max. 10 km</td>\n",
       "      <td>429.000 €</td>\n",
       "      <td>['97 m²']</td>\n",
       "      <td>['4 Zi.']</td>\n",
       "    </tr>\n",
       "    <tr>\n",
       "      <th>4</th>\n",
       "      <td>4</td>\n",
       "      <td>27drw5w</td>\n",
       "      <td>berlin</td>\n",
       "      <td>50</td>\n",
       "      <td>max. 10 km</td>\n",
       "      <td>548.000 €</td>\n",
       "      <td>['90 m²']</td>\n",
       "      <td>['4 Zi.']</td>\n",
       "    </tr>\n",
       "  </tbody>\n",
       "</table>\n",
       "</div>"
      ],
      "text/plain": [
       "   Unnamed: 0       ID     Ort  Umkreis      MaxOrt        Preis      Fläche  \\\n",
       "0           0  28auw54  berlin       50  max. 20 km  2.130.000 €  ['906 m²']   \n",
       "1           1  274he5l  berlin       50  max. 10 km    690.000 €  ['323 m²']   \n",
       "2           2  26ekx52  berlin       50  max. 10 km    698.000 €  ['180 m²']   \n",
       "3           3  26zkl56  berlin       50  max. 10 km    429.000 €   ['97 m²']   \n",
       "4           4  27drw5w  berlin       50  max. 10 km    548.000 €   ['90 m²']   \n",
       "\n",
       "      Zimmer  \n",
       "0         []  \n",
       "1  ['8 Zi.']  \n",
       "2  ['4 Zi.']  \n",
       "3  ['4 Zi.']  \n",
       "4  ['4 Zi.']  "
      ]
     },
     "execution_count": 12,
     "metadata": {},
     "output_type": "execute_result"
    }
   ],
   "source": [
    "#csv aus web Analytics einlesen\n",
    "immodf=pd.read_csv(\"Immobilien.csv\")\n",
    "immodf.head()"
   ]
  },
  {
   "cell_type": "code",
   "execution_count": 13,
   "metadata": {},
   "outputs": [
    {
     "name": "stdout",
     "output_type": "stream",
     "text": [
      "<class 'pandas.core.frame.DataFrame'>\n",
      "RangeIndex: 200 entries, 0 to 199\n",
      "Data columns (total 8 columns):\n",
      " #   Column      Non-Null Count  Dtype \n",
      "---  ------      --------------  ----- \n",
      " 0   Unnamed: 0  200 non-null    int64 \n",
      " 1   ID          200 non-null    object\n",
      " 2   Ort         200 non-null    object\n",
      " 3   Umkreis     200 non-null    int64 \n",
      " 4   MaxOrt      200 non-null    object\n",
      " 5   Preis       200 non-null    object\n",
      " 6   Fläche      200 non-null    object\n",
      " 7   Zimmer      200 non-null    object\n",
      "dtypes: int64(2), object(6)\n",
      "memory usage: 12.6+ KB\n"
     ]
    }
   ],
   "source": [
    "immodf.info()"
   ]
  },
  {
   "cell_type": "code",
   "execution_count": null,
   "metadata": {},
   "outputs": [],
   "source": [
    "#Nullwerte vorhanden?\n",
    "sns.heatmap(immodf.isnull(), yticklabels=False, cbar=False, cmap='viridis')"
   ]
  },
  {
   "cell_type": "code",
   "execution_count": null,
   "metadata": {},
   "outputs": [],
   "source": [
    "#Nullwerte ggf. entfernen\n",
    "immodf = immodf.dropna()"
   ]
  },
  {
   "cell_type": "code",
   "execution_count": 14,
   "metadata": {},
   "outputs": [
    {
     "name": "stderr",
     "output_type": "stream",
     "text": [
      "/var/folders/1c/xbr5tqd11kj2_4xtc05ft2dc0000gp/T/ipykernel_15341/2159434963.py:2: FutureWarning: The default value of regex will change from True to False in a future version.\n",
      "  immodf[\"Fläche\"]=immodf[\"Fläche\"].str.replace(\"['\",\"\")\n"
     ]
    },
    {
     "ename": "error",
     "evalue": "unterminated character set at position 0",
     "output_type": "error",
     "traceback": [
      "\u001b[0;31m---------------------------------------------------------------------------\u001b[0m",
      "\u001b[0;31merror\u001b[0m                                     Traceback (most recent call last)",
      "\u001b[1;32m/Users/helena.schick/Documents/GitHub/WebSocialMediaAnalytics/Regression.ipynb Cell 4\u001b[0m in \u001b[0;36m<cell line: 2>\u001b[0;34m()\u001b[0m\n\u001b[1;32m      <a href='vscode-notebook-cell:/Users/helena.schick/Documents/GitHub/WebSocialMediaAnalytics/Regression.ipynb#W2sZmlsZQ%3D%3D?line=0'>1</a>\u001b[0m \u001b[39m#immodf[\"Fläche\"]=immodf[\"Fläche\"].str.replace(\"[]\",\"0\")\u001b[39;00m\n\u001b[0;32m----> <a href='vscode-notebook-cell:/Users/helena.schick/Documents/GitHub/WebSocialMediaAnalytics/Regression.ipynb#W2sZmlsZQ%3D%3D?line=1'>2</a>\u001b[0m immodf[\u001b[39m\"\u001b[39m\u001b[39mFläche\u001b[39m\u001b[39m\"\u001b[39m]\u001b[39m=\u001b[39mimmodf[\u001b[39m\"\u001b[39;49m\u001b[39mFläche\u001b[39;49m\u001b[39m\"\u001b[39;49m]\u001b[39m.\u001b[39;49mstr\u001b[39m.\u001b[39;49mreplace(\u001b[39m\"\u001b[39;49m\u001b[39m[\u001b[39;49m\u001b[39m'\u001b[39;49m\u001b[39m\"\u001b[39;49m,\u001b[39m\"\u001b[39;49m\u001b[39m\"\u001b[39;49m) \n\u001b[1;32m      <a href='vscode-notebook-cell:/Users/helena.schick/Documents/GitHub/WebSocialMediaAnalytics/Regression.ipynb#W2sZmlsZQ%3D%3D?line=2'>3</a>\u001b[0m immodf[\u001b[39m\"\u001b[39m\u001b[39mFläche\u001b[39m\u001b[39m\"\u001b[39m]\u001b[39m=\u001b[39mimmodf[\u001b[39m\"\u001b[39m\u001b[39mFläche\u001b[39m\u001b[39m\"\u001b[39m]\u001b[39m.\u001b[39mstr\u001b[39m.\u001b[39mreplace(\u001b[39m\"\u001b[39m\u001b[39m m²\u001b[39m\u001b[39m'\u001b[39m\u001b[39m]\u001b[39m\u001b[39m\"\u001b[39m,\u001b[39m\"\u001b[39m\u001b[39m\"\u001b[39m) \n\u001b[1;32m      <a href='vscode-notebook-cell:/Users/helena.schick/Documents/GitHub/WebSocialMediaAnalytics/Regression.ipynb#W2sZmlsZQ%3D%3D?line=3'>4</a>\u001b[0m immodf[\u001b[39m\"\u001b[39m\u001b[39mZimmer\u001b[39m\u001b[39m\"\u001b[39m]\u001b[39m=\u001b[39mimmodf[\u001b[39m\"\u001b[39m\u001b[39mZimmer\u001b[39m\u001b[39m\"\u001b[39m]\u001b[39m.\u001b[39mstr\u001b[39m.\u001b[39mreplace(\u001b[39m\"\u001b[39m\u001b[39m[]\u001b[39m\u001b[39m\"\u001b[39m,\u001b[39m\"\u001b[39m\u001b[39m0\u001b[39m\u001b[39m\"\u001b[39m)\n",
      "File \u001b[0;32m/opt/anaconda3/lib/python3.9/site-packages/pandas/core/strings/accessor.py:125\u001b[0m, in \u001b[0;36mforbid_nonstring_types.<locals>._forbid_nonstring_types.<locals>.wrapper\u001b[0;34m(self, *args, **kwargs)\u001b[0m\n\u001b[1;32m    120\u001b[0m     msg \u001b[39m=\u001b[39m (\n\u001b[1;32m    121\u001b[0m         \u001b[39mf\u001b[39m\u001b[39m\"\u001b[39m\u001b[39mCannot use .str.\u001b[39m\u001b[39m{\u001b[39;00mfunc_name\u001b[39m}\u001b[39;00m\u001b[39m with values of \u001b[39m\u001b[39m\"\u001b[39m\n\u001b[1;32m    122\u001b[0m         \u001b[39mf\u001b[39m\u001b[39m\"\u001b[39m\u001b[39minferred dtype \u001b[39m\u001b[39m'\u001b[39m\u001b[39m{\u001b[39;00m\u001b[39mself\u001b[39m\u001b[39m.\u001b[39m_inferred_dtype\u001b[39m}\u001b[39;00m\u001b[39m'\u001b[39m\u001b[39m.\u001b[39m\u001b[39m\"\u001b[39m\n\u001b[1;32m    123\u001b[0m     )\n\u001b[1;32m    124\u001b[0m     \u001b[39mraise\u001b[39;00m \u001b[39mTypeError\u001b[39;00m(msg)\n\u001b[0;32m--> 125\u001b[0m \u001b[39mreturn\u001b[39;00m func(\u001b[39mself\u001b[39;49m, \u001b[39m*\u001b[39;49margs, \u001b[39m*\u001b[39;49m\u001b[39m*\u001b[39;49mkwargs)\n",
      "File \u001b[0;32m/opt/anaconda3/lib/python3.9/site-packages/pandas/core/strings/accessor.py:1462\u001b[0m, in \u001b[0;36mStringMethods.replace\u001b[0;34m(self, pat, repl, n, case, flags, regex)\u001b[0m\n\u001b[1;32m   1459\u001b[0m \u001b[39mif\u001b[39;00m case \u001b[39mis\u001b[39;00m \u001b[39mNone\u001b[39;00m:\n\u001b[1;32m   1460\u001b[0m     case \u001b[39m=\u001b[39m \u001b[39mTrue\u001b[39;00m\n\u001b[0;32m-> 1462\u001b[0m result \u001b[39m=\u001b[39m \u001b[39mself\u001b[39;49m\u001b[39m.\u001b[39;49m_data\u001b[39m.\u001b[39;49marray\u001b[39m.\u001b[39;49m_str_replace(\n\u001b[1;32m   1463\u001b[0m     pat, repl, n\u001b[39m=\u001b[39;49mn, case\u001b[39m=\u001b[39;49mcase, flags\u001b[39m=\u001b[39;49mflags, regex\u001b[39m=\u001b[39;49mregex\n\u001b[1;32m   1464\u001b[0m )\n\u001b[1;32m   1465\u001b[0m \u001b[39mreturn\u001b[39;00m \u001b[39mself\u001b[39m\u001b[39m.\u001b[39m_wrap_result(result)\n",
      "File \u001b[0;32m/opt/anaconda3/lib/python3.9/site-packages/pandas/core/strings/object_array.py:158\u001b[0m, in \u001b[0;36mObjectStringArrayMixin._str_replace\u001b[0;34m(self, pat, repl, n, case, flags, regex)\u001b[0m\n\u001b[1;32m    156\u001b[0m     \u001b[39mif\u001b[39;00m regex \u001b[39mis\u001b[39;00m \u001b[39mFalse\u001b[39;00m:\n\u001b[1;32m    157\u001b[0m         pat \u001b[39m=\u001b[39m re\u001b[39m.\u001b[39mescape(pat)\n\u001b[0;32m--> 158\u001b[0m     pat \u001b[39m=\u001b[39m re\u001b[39m.\u001b[39;49mcompile(pat, flags\u001b[39m=\u001b[39;49mflags)\n\u001b[1;32m    160\u001b[0m n \u001b[39m=\u001b[39m n \u001b[39mif\u001b[39;00m n \u001b[39m>\u001b[39m\u001b[39m=\u001b[39m \u001b[39m0\u001b[39m \u001b[39melse\u001b[39;00m \u001b[39m0\u001b[39m\n\u001b[1;32m    161\u001b[0m f \u001b[39m=\u001b[39m \u001b[39mlambda\u001b[39;00m x: pat\u001b[39m.\u001b[39msub(repl\u001b[39m=\u001b[39mrepl, string\u001b[39m=\u001b[39mx, count\u001b[39m=\u001b[39mn)\n",
      "File \u001b[0;32m/opt/anaconda3/lib/python3.9/re.py:252\u001b[0m, in \u001b[0;36mcompile\u001b[0;34m(pattern, flags)\u001b[0m\n\u001b[1;32m    250\u001b[0m \u001b[39mdef\u001b[39;00m \u001b[39mcompile\u001b[39m(pattern, flags\u001b[39m=\u001b[39m\u001b[39m0\u001b[39m):\n\u001b[1;32m    251\u001b[0m     \u001b[39m\"\u001b[39m\u001b[39mCompile a regular expression pattern, returning a Pattern object.\u001b[39m\u001b[39m\"\u001b[39m\n\u001b[0;32m--> 252\u001b[0m     \u001b[39mreturn\u001b[39;00m _compile(pattern, flags)\n",
      "File \u001b[0;32m/opt/anaconda3/lib/python3.9/re.py:304\u001b[0m, in \u001b[0;36m_compile\u001b[0;34m(pattern, flags)\u001b[0m\n\u001b[1;32m    302\u001b[0m \u001b[39mif\u001b[39;00m \u001b[39mnot\u001b[39;00m sre_compile\u001b[39m.\u001b[39misstring(pattern):\n\u001b[1;32m    303\u001b[0m     \u001b[39mraise\u001b[39;00m \u001b[39mTypeError\u001b[39;00m(\u001b[39m\"\u001b[39m\u001b[39mfirst argument must be string or compiled pattern\u001b[39m\u001b[39m\"\u001b[39m)\n\u001b[0;32m--> 304\u001b[0m p \u001b[39m=\u001b[39m sre_compile\u001b[39m.\u001b[39;49mcompile(pattern, flags)\n\u001b[1;32m    305\u001b[0m \u001b[39mif\u001b[39;00m \u001b[39mnot\u001b[39;00m (flags \u001b[39m&\u001b[39m DEBUG):\n\u001b[1;32m    306\u001b[0m     \u001b[39mif\u001b[39;00m \u001b[39mlen\u001b[39m(_cache) \u001b[39m>\u001b[39m\u001b[39m=\u001b[39m _MAXCACHE:\n\u001b[1;32m    307\u001b[0m         \u001b[39m# Drop the oldest item\u001b[39;00m\n",
      "File \u001b[0;32m/opt/anaconda3/lib/python3.9/sre_compile.py:788\u001b[0m, in \u001b[0;36mcompile\u001b[0;34m(p, flags)\u001b[0m\n\u001b[1;32m    786\u001b[0m \u001b[39mif\u001b[39;00m isstring(p):\n\u001b[1;32m    787\u001b[0m     pattern \u001b[39m=\u001b[39m p\n\u001b[0;32m--> 788\u001b[0m     p \u001b[39m=\u001b[39m sre_parse\u001b[39m.\u001b[39;49mparse(p, flags)\n\u001b[1;32m    789\u001b[0m \u001b[39melse\u001b[39;00m:\n\u001b[1;32m    790\u001b[0m     pattern \u001b[39m=\u001b[39m \u001b[39mNone\u001b[39;00m\n",
      "File \u001b[0;32m/opt/anaconda3/lib/python3.9/sre_parse.py:955\u001b[0m, in \u001b[0;36mparse\u001b[0;34m(str, flags, state)\u001b[0m\n\u001b[1;32m    952\u001b[0m state\u001b[39m.\u001b[39mstr \u001b[39m=\u001b[39m \u001b[39mstr\u001b[39m\n\u001b[1;32m    954\u001b[0m \u001b[39mtry\u001b[39;00m:\n\u001b[0;32m--> 955\u001b[0m     p \u001b[39m=\u001b[39m _parse_sub(source, state, flags \u001b[39m&\u001b[39;49m SRE_FLAG_VERBOSE, \u001b[39m0\u001b[39;49m)\n\u001b[1;32m    956\u001b[0m \u001b[39mexcept\u001b[39;00m Verbose:\n\u001b[1;32m    957\u001b[0m     \u001b[39m# the VERBOSE flag was switched on inside the pattern.  to be\u001b[39;00m\n\u001b[1;32m    958\u001b[0m     \u001b[39m# on the safe side, we'll parse the whole thing again...\u001b[39;00m\n\u001b[1;32m    959\u001b[0m     state \u001b[39m=\u001b[39m State()\n",
      "File \u001b[0;32m/opt/anaconda3/lib/python3.9/sre_parse.py:444\u001b[0m, in \u001b[0;36m_parse_sub\u001b[0;34m(source, state, verbose, nested)\u001b[0m\n\u001b[1;32m    442\u001b[0m start \u001b[39m=\u001b[39m source\u001b[39m.\u001b[39mtell()\n\u001b[1;32m    443\u001b[0m \u001b[39mwhile\u001b[39;00m \u001b[39mTrue\u001b[39;00m:\n\u001b[0;32m--> 444\u001b[0m     itemsappend(_parse(source, state, verbose, nested \u001b[39m+\u001b[39;49m \u001b[39m1\u001b[39;49m,\n\u001b[1;32m    445\u001b[0m                        \u001b[39mnot\u001b[39;49;00m nested \u001b[39mand\u001b[39;49;00m \u001b[39mnot\u001b[39;49;00m items))\n\u001b[1;32m    446\u001b[0m     \u001b[39mif\u001b[39;00m \u001b[39mnot\u001b[39;00m sourcematch(\u001b[39m\"\u001b[39m\u001b[39m|\u001b[39m\u001b[39m\"\u001b[39m):\n\u001b[1;32m    447\u001b[0m         \u001b[39mbreak\u001b[39;00m\n",
      "File \u001b[0;32m/opt/anaconda3/lib/python3.9/sre_parse.py:550\u001b[0m, in \u001b[0;36m_parse\u001b[0;34m(source, state, verbose, nested, first)\u001b[0m\n\u001b[1;32m    548\u001b[0m this \u001b[39m=\u001b[39m sourceget()\n\u001b[1;32m    549\u001b[0m \u001b[39mif\u001b[39;00m this \u001b[39mis\u001b[39;00m \u001b[39mNone\u001b[39;00m:\n\u001b[0;32m--> 550\u001b[0m     \u001b[39mraise\u001b[39;00m source\u001b[39m.\u001b[39merror(\u001b[39m\"\u001b[39m\u001b[39munterminated character set\u001b[39m\u001b[39m\"\u001b[39m,\n\u001b[1;32m    551\u001b[0m                        source\u001b[39m.\u001b[39mtell() \u001b[39m-\u001b[39m here)\n\u001b[1;32m    552\u001b[0m \u001b[39mif\u001b[39;00m this \u001b[39m==\u001b[39m \u001b[39m\"\u001b[39m\u001b[39m]\u001b[39m\u001b[39m\"\u001b[39m \u001b[39mand\u001b[39;00m \u001b[39mset\u001b[39m:\n\u001b[1;32m    553\u001b[0m     \u001b[39mbreak\u001b[39;00m\n",
      "\u001b[0;31merror\u001b[0m: unterminated character set at position 0"
     ]
    }
   ],
   "source": [
    "#data preparation\n",
    "immodf[\"Fläche\"]=immodf[\"Fläche\"].str.replace(\"[]\",\"0\")\n",
    "immodf[\"Fläche\"]=immodf[\"Fläche\"].str.replace(\"['\",\"\") \n",
    "immodf[\"Fläche\"]=immodf[\"Fläche\"].str.replace(\" m²']\",\"\") \n",
    "immodf.loc[:,\"Fläche\"]=pd.to_numeric(immodf[\"Fläche\"])\n",
    "\n",
    "immodf[\"Zimmer\"]=immodf[\"Zimmer\"].str.replace(\"[]\",\"0\")\n",
    "immodf[\"Zimmer\"]=immodf[\"Zimmer\"].str.replace(\"['\",\"\") \n",
    "immodf[\"Zimmer\"]=immodf[\"Zimmer\"].str.replace(\"Zi.']\",\"\")\n",
    "immodf.loc[:,\"Zimmer\"]=pd.to_numeric(immodf[\"Zimmer\"])\n",
    "\n",
    "immodf[\"MaxOrt\"]=immodf[\"MaxOrt\"].str.replace(\"max. \",\"\") \n",
    "immodf[\"MaxOrt\"]=immodf[\"MaxOrt\"].str.replace(\" km\",\"\") \n",
    "immodf.loc[:,\"MaxOrt\"]=pd.to_numeric(immodf[\"MaxOrt\"])\n",
    "\n",
    "immodf[\"Preis\"]=immodf[\"Preis\"].str.replace(\" €\",\"\") \n",
    "immodf.loc[:,\"Preis\"]=pd.to_numeric(immodf[\"Preis\"])"
   ]
  },
  {
   "cell_type": "code",
   "execution_count": null,
   "metadata": {},
   "outputs": [],
   "source": [
    "#Duplikate entfernen\n",
    "immodf = immodf.drop_duplicates(subset=[\"Ort\", \"Fläche\", \"Zimmer\", \"Preis\"], keep='first')\n",
    "immodf.info()"
   ]
  },
  {
   "cell_type": "code",
   "execution_count": null,
   "metadata": {},
   "outputs": [],
   "source": [
    "#Einzigartige Werte je Feature\n",
    "for col in immodf.columns:\n",
    "    values = immodf[col].unique()\n",
    "    print(col, \"has\", len(immodf[col].unique()), \"unique values\")"
   ]
  },
  {
   "cell_type": "code",
   "execution_count": null,
   "metadata": {},
   "outputs": [],
   "source": [
    "#Wie viele Häuser werden je Stadt betrachtet?\n",
    "immodf[\"Ort\"].value_counts()"
   ]
  },
  {
   "cell_type": "code",
   "execution_count": null,
   "metadata": {},
   "outputs": [],
   "source": [
    "#Welche numerischen Features gibt es im dataframe?\n",
    "numeric_features=immodf.select_dtypes(include=np.number).columns.to_list()\n",
    "numeric_features"
   ]
  },
  {
   "cell_type": "code",
   "execution_count": null,
   "metadata": {},
   "outputs": [],
   "source": [
    "#numerische Features analysieren\n",
    "immodf.describe()"
   ]
  },
  {
   "cell_type": "code",
   "execution_count": null,
   "metadata": {},
   "outputs": [],
   "source": [
    "#Boxplots und Histogramme"
   ]
  },
  {
   "cell_type": "code",
   "execution_count": null,
   "metadata": {},
   "outputs": [],
   "source": [
    "#Korrelationsmatrix"
   ]
  },
  {
   "cell_type": "code",
   "execution_count": null,
   "metadata": {},
   "outputs": [],
   "source": [
    "#Scattermatrix"
   ]
  },
  {
   "cell_type": "code",
   "execution_count": null,
   "metadata": {},
   "outputs": [],
   "source": [
    "#Spannende Zusammenhänge genauer betrachten (z.B. mit 3D Scatter)"
   ]
  },
  {
   "cell_type": "code",
   "execution_count": null,
   "metadata": {},
   "outputs": [],
   "source": [
    "#Welche kategorialen Features gibt es?\n",
    "cat_features=immodf.select_dtypes(exclude=np.number).columns.to_list()\n",
    "cat_features"
   ]
  },
  {
   "cell_type": "code",
   "execution_count": null,
   "metadata": {},
   "outputs": [],
   "source": [
    "#parallel categories"
   ]
  },
  {
   "cell_type": "code",
   "execution_count": null,
   "metadata": {},
   "outputs": [],
   "source": [
    "#value counts"
   ]
  },
  {
   "cell_type": "code",
   "execution_count": null,
   "metadata": {},
   "outputs": [],
   "source": [
    "#conditional probabilities"
   ]
  },
  {
   "cell_type": "code",
   "execution_count": null,
   "metadata": {},
   "outputs": [],
   "source": [
    "#Zusammenhänge zwischen numerischen und kategorialer Features"
   ]
  },
  {
   "cell_type": "code",
   "execution_count": null,
   "metadata": {},
   "outputs": [],
   "source": [
    "#Preprocessing\n",
    "#One Hot Encoding kategorialer Features"
   ]
  },
  {
   "cell_type": "code",
   "execution_count": null,
   "metadata": {},
   "outputs": [],
   "source": [
    "#Test Train Split\n",
    "X=\n",
    "y=\n",
    "X_train, X_test, y_train, y_test = train_test_split(X, y, test_size=0.3,random_state=0)"
   ]
  },
  {
   "cell_type": "code",
   "execution_count": null,
   "metadata": {},
   "outputs": [],
   "source": [
    "#Regression mit Linear Regression\n",
    "linreg=LinearRegression()\n",
    "linreg.fit(X_train,y_train)"
   ]
  },
  {
   "cell_type": "code",
   "execution_count": null,
   "metadata": {},
   "outputs": [],
   "source": [
    "ypred=linreg.predict(X_test)"
   ]
  },
  {
   "cell_type": "code",
   "execution_count": null,
   "metadata": {},
   "outputs": [],
   "source": [
    "for pred, target in zip(ypred[:10],y_test[:10]):\n",
    "    print(\"Predicted: {0:2.2f} \\t True: {1:2.2f}\".format(pred,target))"
   ]
  },
  {
   "cell_type": "code",
   "execution_count": null,
   "metadata": {},
   "outputs": [],
   "source": [
    "#Evaluation der Regression\n",
    "def determineRegressionMetrics(y_test,y_pred,title=\"\"):\n",
    "    mse = mean_squared_error(y_test, y_pred)\n",
    "    mad = mean_absolute_error(y_test, y_pred)\n",
    "    rmsle=np.sqrt(mean_squared_error(np.log(y_test+1),np.log(y_pred+1)))# +1 for avoiding log(0) \n",
    "    r2=r2_score(y_test, y_pred)\n",
    "    med=median_absolute_error(y_test, y_pred)\n",
    "    print(title)\n",
    "    print(\"Mean absolute error =\", round(mad, 2))\n",
    "    print(\"Mean squared error =\", round(mse, 2))\n",
    "    print(\"Median absolute error =\", round(med, 2))\n",
    "    print(\"R2 score =\", round(r2, 2))\n",
    "    print(\"Root Mean Squared Logarithmic Error =\",rmsle)"
   ]
  },
  {
   "cell_type": "code",
   "execution_count": null,
   "metadata": {},
   "outputs": [],
   "source": [
    "determineRegressionMetrics(y_test,ypred)"
   ]
  },
  {
   "cell_type": "code",
   "execution_count": null,
   "metadata": {},
   "outputs": [],
   "source": [
    "#Visualisierung der Evaluation\n",
    "fig=px.scatter(x=ypred,y=y_test,opacity=0.5,\n",
    "               labels={\"x\":\"predicted charges\",\"y\":\"true charges\"},title=\"True vs. Estimated Charges\")\n",
    "fig.add_trace(go.Line(x=[np.min(y_test),np.max(y_test)],y=[np.min(y_test),np.max(y_test)]))\n",
    "fig.update_traces(marker=dict(size=12))\n",
    "fig.show(\"notebook\")"
   ]
  },
  {
   "cell_type": "code",
   "execution_count": null,
   "metadata": {},
   "outputs": [],
   "source": [
    "#Feature importance\n",
    "importance = linreg.feature_importances_\n",
    "# summarize feature importance\n",
    "for i,v in enumerate(importance):\n",
    "\tprint('Feature: %0d, Score: %.5f' % (i,v))\n",
    "# plot feature importance\n",
    "pyplot.bar([x for x in range(len(importance))], importance)\n",
    "pyplot.show()"
   ]
  },
  {
   "cell_type": "code",
   "execution_count": null,
   "metadata": {},
   "outputs": [],
   "source": [
    "#cross validation\n",
    "linreg_scores = linreg_score(linreg, X_train, y_train, cv = 5)\n",
    "print(\"mean cross validation score: {}\".format(np.mean(linreg_scores)))"
   ]
  },
  {
   "cell_type": "code",
   "execution_count": null,
   "metadata": {},
   "outputs": [],
   "source": [
    "#Regression mit Decision Tree\n",
    "#hier selbe Schritte wie zuvor\n",
    "dtr=DecisionTreeRegressor()\n",
    "dtr.fit(X_train,y_train)"
   ]
  },
  {
   "cell_type": "code",
   "execution_count": null,
   "metadata": {},
   "outputs": [],
   "source": [
    "#Regression mit Gradient Boosting Tree\n",
    "gbr=GradientBoostingRegressor()\n",
    "gbr.fit(X_train,y_train)\n",
    "gbr_scores = cross_val_score(gbr, X_train, y_train, cv = 5)\n",
    "print(\"mean cross validation score: {}\".format(np.mean(gbr_scores)))"
   ]
  },
  {
   "cell_type": "code",
   "execution_count": null,
   "metadata": {},
   "outputs": [],
   "source": [
    "#Pipeline möglich statt alle einzeln?"
   ]
  }
 ],
 "metadata": {
  "kernelspec": {
   "display_name": "Python 3.9.13 ('base')",
   "language": "python",
   "name": "python3"
  },
  "language_info": {
   "codemirror_mode": {
    "name": "ipython",
    "version": 3
   },
   "file_extension": ".py",
   "mimetype": "text/x-python",
   "name": "python",
   "nbconvert_exporter": "python",
   "pygments_lexer": "ipython3",
   "version": "3.9.13"
  },
  "orig_nbformat": 4,
  "vscode": {
   "interpreter": {
    "hash": "40d3a090f54c6569ab1632332b64b2c03c39dcf918b08424e98f38b5ae0af88f"
   }
  }
 },
 "nbformat": 4,
 "nbformat_minor": 2
}
