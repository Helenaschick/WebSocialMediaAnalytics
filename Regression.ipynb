{
 "cells": [
  {
   "cell_type": "code",
   "execution_count": 1,
   "metadata": {},
   "outputs": [],
   "source": [
    "#libraries installieren\n",
    "import pandas as pd\n",
    "import numpy as np\n",
    "import seaborn as sns\n",
    "import plotly.express as px\n",
    "import plotly.graph_objs as go\n",
    "import plotly.figure_factory as ff"
   ]
  },
  {
   "cell_type": "code",
   "execution_count": 2,
   "metadata": {},
   "outputs": [
    {
     "data": {
      "text/html": [
       "<div>\n",
       "<style scoped>\n",
       "    .dataframe tbody tr th:only-of-type {\n",
       "        vertical-align: middle;\n",
       "    }\n",
       "\n",
       "    .dataframe tbody tr th {\n",
       "        vertical-align: top;\n",
       "    }\n",
       "\n",
       "    .dataframe thead th {\n",
       "        text-align: right;\n",
       "    }\n",
       "</style>\n",
       "<table border=\"1\" class=\"dataframe\">\n",
       "  <thead>\n",
       "    <tr style=\"text-align: right;\">\n",
       "      <th></th>\n",
       "      <th>Unnamed: 0</th>\n",
       "      <th>ID</th>\n",
       "      <th>Ort</th>\n",
       "      <th>Umkreis</th>\n",
       "      <th>MaxOrt</th>\n",
       "      <th>Preis</th>\n",
       "      <th>Fläche</th>\n",
       "      <th>Zimmer</th>\n",
       "    </tr>\n",
       "  </thead>\n",
       "  <tbody>\n",
       "    <tr>\n",
       "      <th>0</th>\n",
       "      <td>0</td>\n",
       "      <td>28auw54</td>\n",
       "      <td>berlin</td>\n",
       "      <td>50</td>\n",
       "      <td>max. 20 km</td>\n",
       "      <td>2.130.000 €</td>\n",
       "      <td>['906 m²']</td>\n",
       "      <td>[]</td>\n",
       "    </tr>\n",
       "    <tr>\n",
       "      <th>1</th>\n",
       "      <td>1</td>\n",
       "      <td>274he5l</td>\n",
       "      <td>berlin</td>\n",
       "      <td>50</td>\n",
       "      <td>max. 10 km</td>\n",
       "      <td>690.000 €</td>\n",
       "      <td>['323 m²']</td>\n",
       "      <td>['8 Zi.']</td>\n",
       "    </tr>\n",
       "    <tr>\n",
       "      <th>2</th>\n",
       "      <td>2</td>\n",
       "      <td>26ekx52</td>\n",
       "      <td>berlin</td>\n",
       "      <td>50</td>\n",
       "      <td>max. 10 km</td>\n",
       "      <td>698.000 €</td>\n",
       "      <td>['180 m²']</td>\n",
       "      <td>['4 Zi.']</td>\n",
       "    </tr>\n",
       "    <tr>\n",
       "      <th>3</th>\n",
       "      <td>3</td>\n",
       "      <td>26zkl56</td>\n",
       "      <td>berlin</td>\n",
       "      <td>50</td>\n",
       "      <td>max. 10 km</td>\n",
       "      <td>429.000 €</td>\n",
       "      <td>['97 m²']</td>\n",
       "      <td>['4 Zi.']</td>\n",
       "    </tr>\n",
       "    <tr>\n",
       "      <th>4</th>\n",
       "      <td>4</td>\n",
       "      <td>27drw5w</td>\n",
       "      <td>berlin</td>\n",
       "      <td>50</td>\n",
       "      <td>max. 10 km</td>\n",
       "      <td>548.000 €</td>\n",
       "      <td>['90 m²']</td>\n",
       "      <td>['4 Zi.']</td>\n",
       "    </tr>\n",
       "  </tbody>\n",
       "</table>\n",
       "</div>"
      ],
      "text/plain": [
       "   Unnamed: 0       ID     Ort  Umkreis      MaxOrt        Preis      Fläche  \\\n",
       "0           0  28auw54  berlin       50  max. 20 km  2.130.000 €  ['906 m²']   \n",
       "1           1  274he5l  berlin       50  max. 10 km    690.000 €  ['323 m²']   \n",
       "2           2  26ekx52  berlin       50  max. 10 km    698.000 €  ['180 m²']   \n",
       "3           3  26zkl56  berlin       50  max. 10 km    429.000 €   ['97 m²']   \n",
       "4           4  27drw5w  berlin       50  max. 10 km    548.000 €   ['90 m²']   \n",
       "\n",
       "      Zimmer  \n",
       "0         []  \n",
       "1  ['8 Zi.']  \n",
       "2  ['4 Zi.']  \n",
       "3  ['4 Zi.']  \n",
       "4  ['4 Zi.']  "
      ]
     },
     "execution_count": 2,
     "metadata": {},
     "output_type": "execute_result"
    }
   ],
   "source": [
    "#csv aus web Analytics einlesen\n",
    "immodf=pd.read_csv(\"Immobilien.csv\")\n",
    "immodf.head()"
   ]
  },
  {
   "cell_type": "code",
   "execution_count": null,
   "metadata": {},
   "outputs": [],
   "source": []
  }
 ],
 "metadata": {
  "kernelspec": {
   "display_name": "Python 3.9.13 ('base')",
   "language": "python",
   "name": "python3"
  },
  "language_info": {
   "codemirror_mode": {
    "name": "ipython",
    "version": 3
   },
   "file_extension": ".py",
   "mimetype": "text/x-python",
   "name": "python",
   "nbconvert_exporter": "python",
   "pygments_lexer": "ipython3",
   "version": "3.9.13"
  },
  "orig_nbformat": 4,
  "vscode": {
   "interpreter": {
    "hash": "40d3a090f54c6569ab1632332b64b2c03c39dcf918b08424e98f38b5ae0af88f"
   }
  }
 },
 "nbformat": 4,
 "nbformat_minor": 2
}
