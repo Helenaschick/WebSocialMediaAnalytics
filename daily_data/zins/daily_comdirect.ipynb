{
 "cells": [
  {
   "attachments": {},
   "cell_type": "markdown",
   "metadata": {},
   "source": [
    "# Tägliches Comdirect Webscraping"
   ]
  },
  {
   "cell_type": "code",
   "execution_count": 1,
   "metadata": {},
   "outputs": [],
   "source": [
    "#Libraries importieren\n",
    "import pandas as pd\n",
    "from bs4 import BeautifulSoup\n",
    "import requests\n",
    "import lxml\n",
    "from lxml import html\n",
    "from datetime import date"
   ]
  },
  {
   "cell_type": "code",
   "execution_count": 2,
   "metadata": {},
   "outputs": [
    {
     "name": "stdout",
     "output_type": "stream",
     "text": [
      "['3,53']\n",
      "['3,60']\n",
      "['3,69']\n",
      "['3,78']\n",
      "['3,86']\n",
      "['30.12.2022 16:30']\n"
     ]
    }
   ],
   "source": [
    "url = \"https://www.comdirect.de/kredit/bauzinsen.html#Bauzinsen\"\n",
    "\n",
    "page = requests.get(url)\n",
    "tree = html.fromstring(page.content)\n",
    "\n",
    "eff5 = tree.xpath('//div[@class=\"table__container--scroll\"]/table/tbody/tr[1]/td[4]/eff5/text()')\n",
    "eff10 = tree.xpath('//div[@class=\"table__container--scroll\"]/table/tbody/tr[2]/td[4]/eff10/text()')\n",
    "eff15 = tree.xpath('//div[@class=\"table__container--scroll\"]/table/tbody/tr[3]/td[4]/eff15/text()')\n",
    "eff20 = tree.xpath('//div[@class=\"table__container--scroll\"]/table/tbody/tr[4]/td[4]/eff20/text()')\n",
    "eff25 = tree.xpath('//div[@class=\"table__container--scroll\"]/table/tbody/tr[5]/td[4]/eff25/text()')\n",
    "\n",
    "stand = tree.xpath('//div[@class=\"col__content outer-spacing--xlarge-bottom\"]/p/date/text()')\n",
    "\n",
    "print(eff5)\n",
    "print(eff10)\n",
    "print(eff15)\n",
    "print(eff20)\n",
    "print(eff25)\n",
    "print(stand)"
   ]
  },
  {
   "cell_type": "code",
   "execution_count": 3,
   "metadata": {},
   "outputs": [],
   "source": [
    "matrix = [[0 for s in range(10)] for r in range(10)]\n",
    "\n",
    "matrix[0][0]=\"Sollzinsbindung\"\n",
    "matrix[0][1]=\"5 Jahre\"\n",
    "matrix[0][2]=\"10 Jahre\"\n",
    "matrix[0][3]=\"15 Jahre\"\n",
    "matrix[0][4]=\"20 Jahre\"\n",
    "matrix[0][5]=\"25 Jahre\"\n",
    "matrix[1][0]=\"Effektiver Jahreszins\"\n",
    "matrix[1][1]=eff5\n",
    "matrix[1][2]=eff10\n",
    "matrix[1][3]=eff15\n",
    "matrix[1][4]=eff20\n",
    "matrix[1][5]=eff25\n",
    "matrix[2][0]=\"Datenstand\"\n",
    "matrix[2][1]=stand\n",
    "matrix[2][2]=stand\n",
    "matrix[2][3]=stand\n",
    "matrix[2][4]=stand\n",
    "matrix[2][5]=stand\n",
    "\n"
   ]
  },
  {
   "cell_type": "code",
   "execution_count": 4,
   "metadata": {},
   "outputs": [],
   "source": [
    "data = {\n",
    "    'Sollzinsbindung': [],\n",
    "    'Effektiver Jahreszins': [],\n",
    "    'Datenstand': [],\n",
    "}\n",
    "\n",
    "for i in range(5):\n",
    "    data['Sollzinsbindung'].append(matrix[0][i+1])\n",
    "    data['Effektiver Jahreszins'].append(matrix[1][i+1])\n",
    "    data['Datenstand'].append(matrix[2][i+1])\n",
    "\n",
    "df=pd.DataFrame(data, columns=['Sollzinsbindung','Effektiver Jahreszins','Datenstand'])\n",
    "\n",
    "df.to_csv(str(date.today()) +'_Zinsen.csv')"
   ]
  },
  {
   "cell_type": "code",
   "execution_count": 5,
   "metadata": {},
   "outputs": [
    {
     "data": {
      "text/html": [
       "<div>\n",
       "<style scoped>\n",
       "    .dataframe tbody tr th:only-of-type {\n",
       "        vertical-align: middle;\n",
       "    }\n",
       "\n",
       "    .dataframe tbody tr th {\n",
       "        vertical-align: top;\n",
       "    }\n",
       "\n",
       "    .dataframe thead th {\n",
       "        text-align: right;\n",
       "    }\n",
       "</style>\n",
       "<table border=\"1\" class=\"dataframe\">\n",
       "  <thead>\n",
       "    <tr style=\"text-align: right;\">\n",
       "      <th></th>\n",
       "      <th>Sollzinsbindung</th>\n",
       "      <th>Effektiver Jahreszins</th>\n",
       "      <th>Datenstand</th>\n",
       "    </tr>\n",
       "  </thead>\n",
       "  <tbody>\n",
       "    <tr>\n",
       "      <th>0</th>\n",
       "      <td>5 Jahre</td>\n",
       "      <td>[3,53]</td>\n",
       "      <td>[30.12.2022 16:30]</td>\n",
       "    </tr>\n",
       "    <tr>\n",
       "      <th>1</th>\n",
       "      <td>10 Jahre</td>\n",
       "      <td>[3,60]</td>\n",
       "      <td>[30.12.2022 16:30]</td>\n",
       "    </tr>\n",
       "    <tr>\n",
       "      <th>2</th>\n",
       "      <td>15 Jahre</td>\n",
       "      <td>[3,69]</td>\n",
       "      <td>[30.12.2022 16:30]</td>\n",
       "    </tr>\n",
       "    <tr>\n",
       "      <th>3</th>\n",
       "      <td>20 Jahre</td>\n",
       "      <td>[3,78]</td>\n",
       "      <td>[30.12.2022 16:30]</td>\n",
       "    </tr>\n",
       "    <tr>\n",
       "      <th>4</th>\n",
       "      <td>25 Jahre</td>\n",
       "      <td>[3,86]</td>\n",
       "      <td>[30.12.2022 16:30]</td>\n",
       "    </tr>\n",
       "  </tbody>\n",
       "</table>\n",
       "</div>"
      ],
      "text/plain": [
       "  Sollzinsbindung Effektiver Jahreszins          Datenstand\n",
       "0         5 Jahre                [3,53]  [30.12.2022 16:30]\n",
       "1        10 Jahre                [3,60]  [30.12.2022 16:30]\n",
       "2        15 Jahre                [3,69]  [30.12.2022 16:30]\n",
       "3        20 Jahre                [3,78]  [30.12.2022 16:30]\n",
       "4        25 Jahre                [3,86]  [30.12.2022 16:30]"
      ]
     },
     "execution_count": 5,
     "metadata": {},
     "output_type": "execute_result"
    }
   ],
   "source": [
    "df"
   ]
  }
 ],
 "metadata": {
  "kernelspec": {
   "display_name": "base",
   "language": "python",
   "name": "python3"
  },
  "language_info": {
   "codemirror_mode": {
    "name": "ipython",
    "version": 3
   },
   "file_extension": ".py",
   "mimetype": "text/x-python",
   "name": "python",
   "nbconvert_exporter": "python",
   "pygments_lexer": "ipython3",
   "version": "3.9.13 (main, Aug 25 2022, 18:24:45) \n[Clang 12.0.0 ]"
  },
  "orig_nbformat": 4,
  "vscode": {
   "interpreter": {
    "hash": "40d3a090f54c6569ab1632332b64b2c03c39dcf918b08424e98f38b5ae0af88f"
   }
  }
 },
 "nbformat": 4,
 "nbformat_minor": 2
}
