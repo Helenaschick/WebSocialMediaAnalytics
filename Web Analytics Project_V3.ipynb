{
 "cells": [
  {
   "cell_type": "code",
   "execution_count": 1,
   "metadata": {},
   "outputs": [],
   "source": [
    "import selenium\n",
    "from selenium import webdriver\n",
    "from selenium.webdriver.common.by import By\n",
    "from bs4 import BeautifulSoup\n",
    "\n",
    "import lxml\n",
    "from lxml import html\n",
    "from lxml import etree\n",
    "import numpy as np\n",
    "import pandas as pd\n",
    "import requests\n",
    "import re\n",
    "import csv\n",
    "from csv import writer\n",
    "\n",
    "from scipy import stats\n"
   ]
  },
  {
   "cell_type": "code",
   "execution_count": 2,
   "metadata": {},
   "outputs": [],
   "source": [
    "#1. Daten die abgefragt werden dedfinieren\n",
    "Ort = [\"berlin\", \"frankfurt\", \"hamburg\", \"koeln\", \"leipzip\", \"muenchen\", \"stuttgart\"]\n",
    "Umkreis = 50\n",
    "Objekt = [\"haeuser\"]\n",
    "Seite = list(range(2))"
   ]
  },
  {
   "cell_type": "code",
   "execution_count": 3,
   "metadata": {},
   "outputs": [],
   "source": [
    "#2. URL aufteilen\n",
    "Website = \"https://www.immowelt.de/liste/\"\n",
    "Slash = \"/\"\n",
    "Snippet1 = \"/kaufen?d=true&efs=NEW_BUILDING_PROJECT&efs=JUDICIAL_SALE&r=\"\n",
    "Snippet2 = \"&sd=DESC&sf=RELEVANCE&sp=\""
   ]
  },
  {
   "cell_type": "code",
   "execution_count": 4,
   "metadata": {},
   "outputs": [
    {
     "name": "stdout",
     "output_type": "stream",
     "text": [
      "https://www.immowelt.de/liste/berlin/haeuser/kaufen?d=true&efs=NEW_BUILDING_PROJECT&efs=JUDICIAL_SALE&r=50&sd=DESC&sf=RELEVANCE&sp=1\n"
     ]
    }
   ],
   "source": [
    "#3. Url zusammensetzen hier am Beispiel Ort[0]=Berlin, Objekt[0]=haeuser, und die erste Seite Seite[0]+1\n",
    "# wird aufgerufen. Das +1 bei der Seite weil ja die Liste immer bei 0 anfängt aber die Seite \n",
    "#im Internet erst ab 1. Also 0+1 =1 \n",
    "url = Website + Ort[0] + Slash + Objekt[0] +Snippet1 + str(Umkreis) + Snippet2 + str(Seite[0]+1)\n",
    "\n",
    "print(url)"
   ]
  },
  {
   "cell_type": "code",
   "execution_count": 5,
   "metadata": {},
   "outputs": [
    {
     "name": "stdout",
     "output_type": "stream",
     "text": [
      "['28auw54', '274he5l', '26ekx52', '26zkl56', '27drw5w', '28y9q52', '279kt5y', '27a225p', '27sge5l', '27w5v5j', '27jx85v', '27bge5l', '27nhe5l', '28xyz53', '26eq85w', '26pew5r', '28yzs53', '27yc95r', '26faw5f', '272pd5t']\n"
     ]
    }
   ],
   "source": [
    "#4. Nun kommt es zum eigentlichen WebScraping\n",
    "\n",
    "\n",
    "#Url Aufrufen\n",
    "page = requests.get(url)\n",
    " \n",
    "# Parsen der Seite URL\n",
    "tree = html.fromstring(page.content)\n",
    " \n",
    "# Alle IDs der Seite URL in der Liste id Speichern. IDs sind immer eindeutig und nur einmal vergeben\n",
    "\n",
    "id = tree.xpath(\".//a/@id\")\n",
    "# printen der Liste um es zu überprüfen\n",
    "for e in range(1):\n",
    "    print(id)"
   ]
  },
  {
   "cell_type": "code",
   "execution_count": 6,
   "metadata": {},
   "outputs": [
    {
     "name": "stdout",
     "output_type": "stream",
     "text": [
      "['2.130.000 €', '690.000 €', '698.000 €', '429.000 €', '548.000 €', '490.000 €', '1.700.000 €', '7.500.000 €', '4.490.000 €', '795.000 €', '699.500 €', '1.100.000 €', '1.140.000 €', '549.000 €', '950.000 €', '1.590.000 €', '760.000 €', '344.000 €', '2.950.000 €', '550.000 €']\n",
      "['max. 20 km | Hoppegarten (Dahlwitz-Hoppegarten)', 'max. 10 km | Berlin / Lankwitz (Steglitz)', 'max. 10 km | Berlin (Weißensee)', 'max. 10 km | Berlin (Weißensee)', 'max. 10 km | Berlin (Buckow)', 'max. 10 km | Berlin (Lankwitz)', 'max. 10 km | Berlin (Lichterfelde)', 'max. 10 km | Berlin / Schmargendorf (Schmargendorf)', 'max. 10 km | Berlin (Lichterfelde)', 'max. 15 km | Berlin / Biesdorf (Biesdorf)', 'max. 15 km | Berlin (Französisch Buchholz)', 'max. 15 km | Berlin (Lichterfelde)', 'max. 15 km | Berlin (Lichterfelde)', 'max. 15 km | Berlin (Kaulsdorf)', 'max. 15 km | Berlin (Rudow)', 'max. 15 km | Berlin (Köpenick)', 'max. 15 km | Berlin / Tegel (Tegel)', 'max. 15 km | Puchanstraße 33, Berlin (Köpenick)', 'max. 15 km | Berlin / Tegel (Tegel)', 'max. 15 km | Berlin (Kaulsdorf)']\n",
      "['906 m²', '323 m²', '180 m²', '97 m²', '90 m²', '80 m²', '186.62 m²', '524.46 m²', '395 m²', '170 m²', '110.9 m²', '184 m²', '154 m²', '135 m²', '286 m²', '147 m²', '138.87 m²', '190.8 m²', '211 m²', '177.1 m²']\n",
      "['8 Zi.', '4 Zi.', '4 Zi.', '4 Zi.', '4 Zi.', '8 Zi.', '9.5 Zi.', '6 Zi.', '8 Zi.', '4 Zi.', '5 Zi.', '5 Zi.', '4 Zi.', '9 Zi.', '5 Zi.', '5 Zi.', '1 Zi.', '4 Zi.', '8 Zi.']\n"
     ]
    }
   ],
   "source": [
    "#5. Auf dem Webscraping in 4. aufbauen\n",
    "# xpath ist immer gleich aufgebaut beispiel an MaxOrt: = tree.xpath('//div[@class=\"estateFacts-f11b0\"]/div[1]/span/text()')\n",
    "# //div[@class]= er sucht alle div mit class (Klassenname)\n",
    "# //div[@class=\"estateFacts-f11b0\"] hier sucht er alle div mit unterstruktur class die estateFacts-f11b0 heißt\n",
    "#von diesem Ort geht man in die Unterstruktur rein und zwar in das 1 div (div[1]) und dann in die \n",
    "#unterstrukur dieses ersten div dort geht man in span rein und mit /text zieht man den Text aus span raus \n",
    "#und speichert ihn in der Liste MaxOrt \n",
    "\n",
    "#6. das gleiche macht man identisch für alle Werte die man auslesen möchte \n",
    "# z.b prices hier muss man nicht mal in die Unterstrukturen rein sondern kann direkt aus der \n",
    "# div[@data-test=\"price\"]/text() den Preistext rausziehen diesmal hat der Befehl nicht nach class gesucht sondern \n",
    "#nach data-test in div \n",
    "\n",
    "prices = tree.xpath('//div[@data-test=\"price\"]/text()')\n",
    "MaxOrt = tree.xpath('//div[@class=\"estateFacts-f11b0\"]/div[1]/span/text()')\n",
    "area = tree.xpath('//div[@data-test=\"area\"]/text()')\n",
    "rooms = tree.xpath('//div[@data-test=\"rooms\"]/text()')\n",
    "\n",
    "# Printen aller Ergebnisse die man aus diser 1. Seite rausgelesen hat\n",
    "for e in range(1):\n",
    "    print(prices)\n",
    "for e in range(1):\n",
    "    print(MaxOrt)\n",
    "for e in range(1):\n",
    "    print(area)\n",
    "for e in range(1):\n",
    "    print(rooms)\n"
   ]
  },
  {
   "cell_type": "code",
   "execution_count": 7,
   "metadata": {},
   "outputs": [
    {
     "name": "stdout",
     "output_type": "stream",
     "text": [
      "['max. 20 km', 'max. 10 km', 'max. 10 km', 'max. 10 km', 'max. 10 km', 'max. 10 km', 'max. 10 km', 'max. 10 km', 'max. 10 km', 'max. 15 km', 'max. 15 km', 'max. 15 km', 'max. 15 km', 'max. 15 km', 'max. 15 km', 'max. 15 km', 'max. 15 km', 'max. 15 km', 'max. 15 km', 'max. 15 km']\n"
     ]
    }
   ],
   "source": [
    "#7. Man erkennt dass bei MaxOrt nicht nur der max. Ort drinsteht sondern auch mehr\n",
    "# im ersten Fall (erstes Objekt auf der ersten Seite zur URL) \"'max. 20 km | Hoppegarten (Dahlwitz-Hoppegarten)\"  \n",
    "# wenn man nur die max. 20 km Abstand zum Ort haben will muss man also den Rest rauslöschen\n",
    "#da die Seite immer gleich aufgebaut ist kann man dies gut machen \n",
    "#dafür geht man von der ersten Ziffer bis zum | und löscht den Rest raus mit dem Befehl\n",
    "#MaxOrt[e]=MaxOrt[e][MaxOrt[e].index(\"\"): MaxOrt[e].index(\"|\")-1] die -1 steht dafür dass man noch eine \n",
    "#Ziffer mehr löscht von rechts nach links Gezeählt ab dem Zeichen \"|\"\n",
    "\n",
    "#da man dies für jeden Wert in der Liste MaxOrt machen muss hier wieder eine For schleife mit range als Länge \n",
    "# der Liste\n",
    "MaxOrt = tree.xpath('//div[@class=\"estateFacts-f11b0\"]/div[1]/span/text()')\n",
    "\n",
    "for e in range(len(MaxOrt)):\n",
    "    MaxOrt[e]=MaxOrt[e][MaxOrt[e].index(\"\"): MaxOrt[e].index(\"|\")-1]\n",
    "    \n",
    "# für die Überprüfung wieder printen\n",
    "for e in range(1):\n",
    "    print(MaxOrt)\n"
   ]
  },
  {
   "cell_type": "code",
   "execution_count": 8,
   "metadata": {},
   "outputs": [
    {
     "name": "stdout",
     "output_type": "stream",
     "text": [
      "['28auw54', '274he5l', '26ekx52', '26zkl56', '27drw5w', '28y9q52', '279kt5y', '27a225p', '27sge5l', '27w5v5j', '27jx85v', '27bge5l', '27nhe5l', '28xyz53', '26eq85w', '26pew5r', '28yzs53', '27yc95r', '26faw5f', '272pd5t']\n",
      "['2.130.000 €', '690.000 €', '698.000 €', '429.000 €', '548.000 €', '490.000 €', '1.700.000 €', '7.500.000 €', '4.490.000 €', '795.000 €', '699.500 €', '1.100.000 €', '1.140.000 €', '549.000 €', '950.000 €', '1.590.000 €', '760.000 €', '344.000 €', '2.950.000 €', '550.000 €']\n",
      "['906 m²', '323 m²', '180 m²', '97 m²', '90 m²', '80 m²', '186.62 m²', '524.46 m²', '395 m²', '170 m²', '110.9 m²', '184 m²', '154 m²', '135 m²', '286 m²', '147 m²', '138.87 m²', '190.8 m²', '211 m²', '177.1 m²']\n",
      "['8 Zi.', '4 Zi.', '4 Zi.', '4 Zi.', '4 Zi.', '8 Zi.', '9.5 Zi.', '6 Zi.', '8 Zi.', '4 Zi.', '5 Zi.', '5 Zi.', '4 Zi.', '9 Zi.', '5 Zi.', '5 Zi.', '1 Zi.', '4 Zi.', '8 Zi.']\n",
      "Anzahl der Listenelemente ID: 20\n",
      "Anzahl der Listenelemente Preise: 20\n",
      "Anzahl der Listenelemente Fläche: 20\n",
      "Anzahl der Listenelemente Zimmer: 19\n"
     ]
    }
   ],
   "source": [
    "#8. Listen sind nicht gleich lang. \n",
    "# Beim Programmieren ist aufgefallen dass die Listen nicht immer gleich lang\n",
    "# sind und somit können sie nicht ausgegeben werden \n",
    "# das ist der Fall da die Homepage nicht geflegt ist und manchmal keine Zimmeranzahl oder Fläche zum Objekt \n",
    "# angegeben ist. Nur die ID und der Preis sind für jedes Objekt \"immer\" angegeben\n",
    "# dafür muss noch eine Lösung gefunden werden, dass man mit den Listen arbeiten kann\n",
    "# hier sieht man es\n",
    "\n",
    "prices = tree.xpath('//div[@data-test=\"price\"]/text()')\n",
    "area = tree.xpath('//div[@data-test=\"area\"]/text()')\n",
    "rooms = tree.xpath('//div[@data-test=\"rooms\"]/text()')\n",
    "\n",
    "#printen um zu überprüfen\n",
    "for e in range(1):     \n",
    "    print(id)\n",
    "for e in range(1):     \n",
    "    print(prices)\n",
    "for e in range(1):     \n",
    "    print(area)\n",
    "for e in range(1):     \n",
    "    print(rooms)\n",
    "\n",
    "\n",
    "#Anzahl der Zeilen in der Liste Printen um zu übverprüfen ob alle die gleiche Länge haben\n",
    "#Zum Zeitpunkt 13.12.2022 gibt es bei den Listen id,prices, area 20 Einträge\n",
    "#Eine Liste hat nur 19 Einträge und zwar die Liste Rooms. \n",
    "#Ein Vergleich mit dem Quelltext der Website zeigt, dass einmal die Zimmeranzahl nicht angegeben ist\n",
    "#wichtig! um das ganze Programm zu automatsieren müssen aber die Liste gleich lang sein\n",
    "print (\"Anzahl der Listenelemente ID:\", len(id))\n",
    "print (\"Anzahl der Listenelemente Preise:\", len(prices))\n",
    "print (\"Anzahl der Listenelemente Fläche:\", len(area))\n",
    "print (\"Anzahl der Listenelemente Zimmer:\", len(rooms))"
   ]
  },
  {
   "cell_type": "code",
   "execution_count": 9,
   "metadata": {},
   "outputs": [
    {
     "name": "stdout",
     "output_type": "stream",
     "text": [
      "[]\n"
     ]
    }
   ],
   "source": [
    "#9. Alle Listen auf die gleiche Länge bringen\n",
    "#beim xpath befehl zieht der Befehl jeden Wert wo etwas drinsteht raus. Wenn nichts drinsteht überspringt er es\n",
    "#das heißt wenn nichts drinsteht wird der Wert \"Nothing\" nicht in der Liste gespeichert\n",
    "#somit haben die Listen immer unetrschiedliche Längen\n",
    "\n",
    "\n",
    "\n",
    "#Die LÖSUNG dafür:\n",
    "#am Anfang hat man die IDs ausgelesen. Da es jede ID nur einmal gibt kann man nach den IDs suchen \n",
    "#und dann wie oben mit den Unterstrukturen auf das Element gehen und auslesen\n",
    "\n",
    "\n",
    "id = tree.xpath(\".//a/@id\")\n",
    "rooms = [[0 for s in range(1)] for r in range(len(id))]\n",
    "area= [[0 for s in range(1)] for r in range(len(id))]\n",
    "prices = tree.xpath('//div[@data-test=\"price\"]/text()')\n",
    "MaxOrt = tree.xpath('//div[@class=\"estateFacts-f11b0\"]/div[1]/span/text()')\n",
    "\n",
    "#zuerst einfach gesucht mit dem String 28auw54 eienr ID dann geht man wieder in die Unterstrukturen \n",
    "#und liest den Text aus wie schon oben gemacht:\n",
    "#in diesem Beispiel hat die ID 28auw54 am 13.12.2022 keine Zimmeranzahl stehen, also schreibt der Befehl\n",
    "#nichts in die Variable rooms rein\n",
    "#hier nur ein EIntrag also keine Liste da nach einem Spezifischen Wert (die einige ID mit)\n",
    "# ID Name 28auw54 auf der Seite gesucht wurde\n",
    "# gesucht wurde und nicht wie bei den \n",
    "#bisherigen Befehlen die ganze Seite nach allen IDs durchsucht wurde \n",
    "rooms= tree.xpath('//a[@id= \"28auw54\"]/div[2]/div[1]/div[1]/div[3]/text()')\n",
    "\n",
    "print(rooms)\n",
    "\n"
   ]
  },
  {
   "cell_type": "code",
   "execution_count": 10,
   "metadata": {},
   "outputs": [
    {
     "name": "stdout",
     "output_type": "stream",
     "text": [
      "['28auw54', '274he5l', '26ekx52', '26zkl56', '27drw5w', '28y9q52', '279kt5y', '27a225p', '27sge5l', '27w5v5j', '27jx85v', '27bge5l', '27nhe5l', '28xyz53', '26eq85w', '26pew5r', '28yzs53', '27yc95r', '26faw5f', '272pd5t']\n",
      "Anzahl der Listenelemente ID: 20\n",
      "['max. 20 km ', 'max. 10 km ', 'max. 10 km ', 'max. 10 km ', 'max. 10 km ', 'max. 10 km ', 'max. 10 km ', 'max. 10 km ', 'max. 10 km ', 'max. 15 km ', 'max. 15 km ', 'max. 15 km ', 'max. 15 km ', 'max. 15 km ', 'max. 15 km ', 'max. 15 km ', 'max. 15 km ', 'max. 15 km ', 'max. 15 km ', 'max. 15 km ']\n",
      "Anzahl der Listenelemente Max Ortsabweichung: 20\n",
      "['2.130.000 €', '690.000 €', '698.000 €', '429.000 €', '548.000 €', '490.000 €', '1.700.000 €', '7.500.000 €', '4.490.000 €', '795.000 €', '699.500 €', '1.100.000 €', '1.140.000 €', '549.000 €', '950.000 €', '1.590.000 €', '760.000 €', '344.000 €', '2.950.000 €', '550.000 €']\n",
      "Anzahl der Listenelemente Preise: 20\n",
      "[[['906 m²']], [['323 m²']], [['180 m²']], [['97 m²']], [['90 m²']], [['80 m²']], [['186.62 m²']], [['524.46 m²']], [['395 m²']], [['170 m²']], [['110.9 m²']], [['184 m²']], [['154 m²']], [['135 m²']], [['286 m²']], [['147 m²']], [['138.87 m²']], [['190.8 m²']], [['211 m²']], [['177.1 m²']]]\n",
      "Anzahl der Listenelemente Fläche: 20\n",
      "[[[]], [['8 Zi.']], [['4 Zi.']], [['4 Zi.']], [['4 Zi.']], [['4 Zi.']], [['8 Zi.']], [['9.5 Zi.']], [['6 Zi.']], [['8 Zi.']], [['4 Zi.']], [['5 Zi.']], [['5 Zi.']], [['4 Zi.']], [['9 Zi.']], [['5 Zi.']], [['5 Zi.']], [['1 Zi.']], [['4 Zi.']], [['8 Zi.']]]\n",
      "Anzahl der Listenelemente Zimmer: 20\n"
     ]
    }
   ],
   "source": [
    "#10 Das Ganze jetzt für die Liste mit einer Schleife dabei musste erst der Befehl so umgestaltete werden\n",
    "# dass man nach dem Variablenwert sucht und nicht nach einem String\n",
    "#Sonst hätte man jede ID händisch als String in das a[@id= \"BeispielidalsString\" schreiben müssen\n",
    "#wurde gelöst! hier der Befehl wenn eine Variable als Suchkriterium einegsetzt wird\n",
    "#area[e][0]= tree.xpath('//a[@id=\"%s\"]/div[2]/div[1]/div[1]/div[2]/text()'% id[e])\n",
    "#der Befehl unerscheidet sich darin dass anstelle der ID ein %s steht und die Variable am Ende hier id[e]\n",
    "#steht. Dadurch kann man jetzt nach jeder ID auf der Seite suchen und in die Unetrstruktur gehen wo die Fläche \n",
    "#steht oder die Raumanzahl. Wie gesagt gibt es nicht immer die Fläche oder die Raumanzahl auf der Website\n",
    "\n",
    "\n",
    "#um eine dynamische allokierung der Listen rooms und area zu erhalten werden Matrixen erstellt\n",
    "#mit spalten 2 (range(1)) und Zeilenanzahl (len(id))\n",
    "#man bezieht sich dann unten nur auf eine Liste indem man z.b. rooms[e][0] macht. Die 0 steht für Spalte 1\n",
    "#wenn man sich nur in einer Spalte hier Spalte (1) bewegt ist es sozusagen eine Liste. \n",
    "rooms = [[0 for s in range(1)] for r in range(len(id))]\n",
    "area= [[0 for s in range(1)] for r in range(len(id))]\n",
    "\n",
    "\n",
    "id = tree.xpath(\".//a/@id\")\n",
    "prices = tree.xpath('//div[@data-test=\"price\"]/text()')\n",
    "MaxOrt = tree.xpath('//div[@class=\"estateFacts-f11b0\"]/div[1]/span/text()')\n",
    "\n",
    "\n",
    "#hier die Schleife mit dem Variablenbefehl. Bitte vergleichen mit 9. wo\n",
    "#der String drin steht ohne Variablenaufruf \n",
    "for e in range(len(id)):\n",
    "    rooms[e][0]= tree.xpath('//a[@id=\"%s\"]/div[2]/div[1]/div[1]/div[3]/text()'% id[e])\n",
    "    area[e][0]= tree.xpath('//a[@id=\"%s\"]/div[2]/div[1]/div[1]/div[2]/text()'% id[e])\n",
    "\n",
    "\n",
    "for e in range(len(MaxOrt)):\n",
    "    MaxOrt[e]=MaxOrt[e][MaxOrt[e].index(\"\"): MaxOrt[e].index(\"|\")]\n",
    "\n",
    "\n",
    "#printen zum Überprüfen\n",
    "#am 13.12.2022 sind trotz fehlender Informationen in den Zimmern bei den Objekten (Häuser) jeder Listenplatz\n",
    "#ausgefüllt (auch mit Nothing Werten)\n",
    "#also es funktioniert\n",
    "\n",
    "for e in range(1):     \n",
    "    print(id)\n",
    "print (\"Anzahl der Listenelemente ID:\", len(id))\n",
    "\n",
    "for e in range(1):     \n",
    "    print(MaxOrt)\n",
    "print (\"Anzahl der Listenelemente Max Ortsabweichung:\", len(MaxOrt))\n",
    "for e in range(1):     \n",
    "    print(prices)\n",
    "print (\"Anzahl der Listenelemente Preise:\", len(prices))\n",
    "for e in range(1):     \n",
    "    print(area)\n",
    "print (\"Anzahl der Listenelemente Fläche:\", len(area))\n",
    "for e in range(1):     \n",
    "    print(rooms)\n",
    "print (\"Anzahl der Listenelemente Zimmer:\", len(rooms))"
   ]
  },
  {
   "cell_type": "code",
   "execution_count": 11,
   "metadata": {},
   "outputs": [],
   "source": [
    "#11. Das ganze Automatisieren für beliebige URL und Anzahl an Seiten\n"
   ]
  },
  {
   "cell_type": "code",
   "execution_count": 12,
   "metadata": {},
   "outputs": [
    {
     "name": "stdout",
     "output_type": "stream",
     "text": [
      "https://www.immowelt.de/liste/berlin/haeuser/kaufen?d=true&efs=NEW_BUILDING_PROJECT&efs=JUDICIAL_SALE&r=50&sd=DESC&sf=RELEVANCE&sp=1\n",
      "https://www.immowelt.de/liste/berlin/haeuser/kaufen?d=true&efs=NEW_BUILDING_PROJECT&efs=JUDICIAL_SALE&r=50&sd=DESC&sf=RELEVANCE&sp=2\n",
      "https://www.immowelt.de/liste/frankfurt/haeuser/kaufen?d=true&efs=NEW_BUILDING_PROJECT&efs=JUDICIAL_SALE&r=50&sd=DESC&sf=RELEVANCE&sp=1\n",
      "https://www.immowelt.de/liste/frankfurt/haeuser/kaufen?d=true&efs=NEW_BUILDING_PROJECT&efs=JUDICIAL_SALE&r=50&sd=DESC&sf=RELEVANCE&sp=2\n",
      "https://www.immowelt.de/liste/hamburg/haeuser/kaufen?d=true&efs=NEW_BUILDING_PROJECT&efs=JUDICIAL_SALE&r=50&sd=DESC&sf=RELEVANCE&sp=1\n",
      "https://www.immowelt.de/liste/hamburg/haeuser/kaufen?d=true&efs=NEW_BUILDING_PROJECT&efs=JUDICIAL_SALE&r=50&sd=DESC&sf=RELEVANCE&sp=2\n",
      "https://www.immowelt.de/liste/koeln/haeuser/kaufen?d=true&efs=NEW_BUILDING_PROJECT&efs=JUDICIAL_SALE&r=50&sd=DESC&sf=RELEVANCE&sp=1\n",
      "https://www.immowelt.de/liste/koeln/haeuser/kaufen?d=true&efs=NEW_BUILDING_PROJECT&efs=JUDICIAL_SALE&r=50&sd=DESC&sf=RELEVANCE&sp=2\n",
      "https://www.immowelt.de/liste/leipzip/haeuser/kaufen?d=true&efs=NEW_BUILDING_PROJECT&efs=JUDICIAL_SALE&r=50&sd=DESC&sf=RELEVANCE&sp=1\n",
      "https://www.immowelt.de/liste/leipzip/haeuser/kaufen?d=true&efs=NEW_BUILDING_PROJECT&efs=JUDICIAL_SALE&r=50&sd=DESC&sf=RELEVANCE&sp=2\n",
      "https://www.immowelt.de/liste/muenchen/haeuser/kaufen?d=true&efs=NEW_BUILDING_PROJECT&efs=JUDICIAL_SALE&r=50&sd=DESC&sf=RELEVANCE&sp=1\n",
      "https://www.immowelt.de/liste/muenchen/haeuser/kaufen?d=true&efs=NEW_BUILDING_PROJECT&efs=JUDICIAL_SALE&r=50&sd=DESC&sf=RELEVANCE&sp=2\n",
      "https://www.immowelt.de/liste/stuttgart/haeuser/kaufen?d=true&efs=NEW_BUILDING_PROJECT&efs=JUDICIAL_SALE&r=50&sd=DESC&sf=RELEVANCE&sp=1\n",
      "https://www.immowelt.de/liste/stuttgart/haeuser/kaufen?d=true&efs=NEW_BUILDING_PROJECT&efs=JUDICIAL_SALE&r=50&sd=DESC&sf=RELEVANCE&sp=2\n"
     ]
    }
   ],
   "source": [
    "#11.1 Die URL \n",
    "# hier wird wieder eine Matrix allokiert. Diesmal mit Spaltenanzahl len(Ort) und Zeilenanzahl len(Seiten)\n",
    "#also erhält man eine Matrix mit allen Orten jeweils in eine Spalte Geschrieben \n",
    "#für jeden Ort erhält man dann die Url für jede Seite in  den Zeilen\n",
    "\n",
    "a = [[0 for j in range(len(Ort)*len(Seite)+10)] for i in range(len(Ort)*len(Seite)+10)]\n",
    "for i in range(len(Ort)):\n",
    "    for j in range(len(Seite)):\n",
    "        a[i][j]= Website + Ort[i] + Slash + Objekt[0] +Snippet1 + str(Umkreis) + Snippet2 + str(Seite[j]+1)\n",
    "        \n",
    "#printen zum Überprüfen dem Fall werden alle Elemente der Matrix von Oben nach unten und von Links nach rechts\n",
    "#aufgelistet also zuerst alle Urls zum Ort 0 und Seitenanzahl bis Seitenanzahl len(Seite) dann \n",
    "#Ort 1 mit allen Seiten Ort2... etc\n",
    "for i in range(len(Ort)):\n",
    "    for j in range(len(Seite)):\n",
    "        print(a[i][j])\n"
   ]
  },
  {
   "cell_type": "code",
   "execution_count": 13,
   "metadata": {},
   "outputs": [
    {
     "name": "stdout",
     "output_type": "stream",
     "text": [
      "200\n"
     ]
    }
   ],
   "source": [
    "#11.2 Gesamtanzahl an Objekten herausfinden über alle Orte und Seiten \n",
    "\n",
    "AnzahlElementebyID=0\n",
    "\n",
    "a = [[0 for j in range(len(Ort)*len(Seite)+10)] for i in range(len(Ort)*len(Seite)+10)]\n",
    "for i in range(len(Ort)):\n",
    "    for j in range(len(Seite)):\n",
    "        a[i][j]= Website + Ort[i] + Slash + Objekt[0] +Snippet1 + str(Umkreis) + Snippet2 + str(Seite[j]+1)\n",
    "        page = requests.get(a[i][j])\n",
    "        tree = html.fromstring(page.content)\n",
    "        id = tree.xpath(\".//a/@id\")\n",
    "        \n",
    "        AnzahlElementebyID=AnzahlElementebyID+len(id)\n",
    "\n",
    "#die Gesamtanzahl über alle Websiten (Orte mit Seitenanzahl) der Objekte Häuser ausgeben natürlich mit der \n",
    "#vorher Gesamtanzahl an Seiten eingestellten Zahl z.b Hier Seitenanzahl pro Ort = 2\n",
    "print(AnzahlElementebyID)"
   ]
  },
  {
   "cell_type": "code",
   "execution_count": 14,
   "metadata": {},
   "outputs": [],
   "source": [
    "#12. Das ganze Automatisiert\n",
    "#funktioniert alles Perfekt mit Fläche und Räume auch wenn manchmal nichts eingetragen ist\n",
    "# wenn nichts eingetragen ist, ist der Eintrag leer\n",
    "#csv Datei wird ausgegeben in dem Ordner wo es gespeichert ist\n",
    "#es fehlt nur noch die maximale Seitenanzahl vom Button. Den auslesen und dann in die Schleifen einbinden\n",
    "#weil bisher nur händische Eingabe der Seitenanzahl. Die Seitenanzahl ist mal auf zwei Seiten pro Suche \n",
    "#hier einegstellt\n",
    "\n",
    "\n",
    "#ab hier bis zum nächsten hier ist 11.2 vorgeschaltet\n",
    "AnzahlElementebyID=0\n",
    "\n",
    "a = [[0 for j in range(len(Ort)*len(Seite)+10)] for i in range(len(Ort)*len(Seite)+10)]\n",
    "for i in range(len(Ort)):\n",
    "    for j in range(len(Seite)):\n",
    "        a[i][j]= Website + Ort[i] + Slash + Objekt[0] +Snippet1 + str(Umkreis) + Snippet2 + str(Seite[j]+1)\n",
    "        page = requests.get(a[i][j])\n",
    "        tree = html.fromstring(page.content)\n",
    "        id = tree.xpath(\".//a/@id\")\n",
    "        \n",
    "        AnzahlElementebyID=AnzahlElementebyID+len(id)\n",
    "#hier \n",
    "\n",
    "\n",
    "#dann die Ausgabe definieren alles wie oben (Punkt 1. bis 11.) bis darauf, \n",
    "#dass alles in der Matrix b gespeichert wird \n",
    "#die Matrix b hat als Länge der Zeilen die Gesamtanzahl der Objekte über alle Seiten (AnzahlElementebyID)\n",
    "\n",
    "\n",
    "\n",
    "\n",
    "#[[0 for j in range(Anzahl Spalten)] for i in range(Anzahl Zeilen)]; \n",
    "#a[i][j]=a[Zeile][Spalte]=AnzahlElementebyIDert in Zelle der Zeile i und Spalte j\n",
    "b = [[0 for s in range(7)] for r in range(len(Ort)*AnzahlElementebyID)]\n",
    "a = [[0 for j in range(len(Ort)*len(Seite)+10)] for i in range(len(Ort)*len(Seite)+10)]\n",
    "laenge = 0\n",
    "for i in range(len(Ort)):    \n",
    "    for j in range(len(Seite)):\n",
    "        a[i][j]= Website + Ort[i] + Slash + Objekt[0] +Snippet1 + str(Umkreis) + Snippet2 + str(Seite[j]+1)\n",
    "        page = requests.get(a[i][j])\n",
    "        tree = html.fromstring(page.content)\n",
    "        id = tree.xpath(\".//a/@id\")\n",
    "        prices = tree.xpath('//div[@data-test=\"price\"]/text()')\n",
    "        MaxOrt = tree.xpath('//div[@class=\"estateFacts-f11b0\"]/div[1]/span/text()')\n",
    "        for e in range(len(MaxOrt)):\n",
    "            MaxOrt[e]=MaxOrt[e][MaxOrt[e].index(\"\"): MaxOrt[e].index(\"|\")-1] \n",
    "        \n",
    "        rooms = [[0 for s in range(1)] for r in range(len(id))]\n",
    "        area= [[0 for s in range(1)] for r in range(len(id))]\n",
    "        \n",
    "        for e in range(len(id)):\n",
    "            rooms[e][0]= tree.xpath('//a[@id=\"%s\"]/div[2]/div[1]/div[1]/div[3]/text()'% id[e])\n",
    "            area[e][0]= tree.xpath('//a[@id=\"%s\"]/div[2]/div[1]/div[1]/div[2]/text()'% id[e])         \n",
    "        \n",
    "        \n",
    "        \n",
    "        for r in range(len(id)):\n",
    "             b[laenge+r][0]= id[r] \n",
    "             b[laenge+r][1]= MaxOrt[r]     \n",
    "             b[laenge+r][2]= prices[r]      \n",
    "             b[laenge+r][3]= Ort[i]\n",
    "             b[laenge+r][4]=Umkreis\n",
    "             b[laenge+r][5]= area[r][0]\n",
    "             b[laenge+r][6]= rooms[r][0]\n",
    "                    \n",
    "        \n",
    "             \n",
    "        #laenge ist die Aktuelle Anzahl Häusern in der For Schleife \n",
    "        # for r in range(len(id)): für die erste Seite fängt es bei b[0+r][Beliebiger Platzhalter] an dann \n",
    "        # die zweite Seite ist die Häuseranzahl der ersten Seite laenge=0+len(id) also z.B laenge=20\n",
    "        # dann fängt für die zweite Seite die b Matrix bei b[20+r][beliebiger Platzhalter] an und geht für\n",
    "        # r = len(id) also die Anzahl der Häuser ab und addiert diese auf den letzten Wert der vorherigen Seite \n",
    "        # siehe  b[laenge+r][Beliebiger Platzhalter]  \n",
    "        laenge = laenge + len(id) \n",
    "        \n",
    "              \n",
    " #jetzt noch in CSV Datei ausgeben:     \n",
    "\n",
    "data = {\n",
    "    'ID': [],\n",
    "    'Ort': [],\n",
    "    'Umkreis': [],\n",
    "    'MaxOrt': [],\n",
    "    'Preis': [],\n",
    "    'Fläche': [],\n",
    "    'Zimmer': [],\n",
    "}\n",
    "\n",
    "for q in range(AnzahlElementebyID):\n",
    "    data['ID'].append(b[q][0])\n",
    "    data['Ort'].append(b[q][3])\n",
    "    data['Umkreis'].append(b[q][4])\n",
    "    data['MaxOrt'].append(b[q][1])\n",
    "    data['Preis'].append(b[q][2])\n",
    "    data['Fläche'].append(b[q][5])\n",
    "    data['Zimmer'].append(b[q][6])\n",
    "    \n",
    "    \n",
    "df=pd.DataFrame(data, columns=['ID','Ort','Umkreis','MaxOrt','Preis','Fläche','Zimmer']) \n",
    "df.to_csv('Immobilien.csv')\n"
   ]
  }
 ],
 "metadata": {
  "kernelspec": {
   "display_name": "base",
   "language": "python",
   "name": "python3"
  },
  "language_info": {
   "codemirror_mode": {
    "name": "ipython",
    "version": 3
   },
   "file_extension": ".py",
   "mimetype": "text/x-python",
   "name": "python",
   "nbconvert_exporter": "python",
   "pygments_lexer": "ipython3",
   "version": "3.9.13"
  },
  "orig_nbformat": 4,
  "vscode": {
   "interpreter": {
    "hash": "5831bf9f1c0f1070cd73f4af250e7617015e7ad75448941a718ff5ffea2cddb3"
   }
  }
 },
 "nbformat": 4,
 "nbformat_minor": 2
}
