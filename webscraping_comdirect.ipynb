{
 "cells": [
  {
   "attachments": {},
   "cell_type": "markdown",
   "metadata": {},
   "source": [
    "# Comdirect Webscraping\n",
    "\n",
    "In diesem Notebook werden die Bauzinsen von Comdirect gescrapet. Die Daten werden u.s. für eine Korrelationsanalyse mit Häuserpreisen verwendet.\n",
    "\n",
    "## Inhaltsverzeichnis\n",
    "\n",
    "1. [Installationen](#1-installationen)\n",
    "2. [Scrapen der Werte](#2-scrapen-der-werte)\n",
    "3. [Umwandlung in Dataframe](#3-umwandlung-in-dataframe)"
   ]
  },
  {
   "attachments": {},
   "cell_type": "markdown",
   "metadata": {},
   "source": [
    "## 1. Installationen"
   ]
  },
  {
   "cell_type": "code",
   "execution_count": 1,
   "metadata": {},
   "outputs": [],
   "source": [
    "import pandas as pd\n",
    "from bs4 import BeautifulSoup\n",
    "import requests\n",
    "import lxml\n",
    "from lxml import html"
   ]
  },
  {
   "attachments": {},
   "cell_type": "markdown",
   "metadata": {},
   "source": [
    "## 2. Scrapen der Werte\n",
    "\n",
    "Die Bauzinsen sind in einer Tabelle auf einer Webseite angeben. Es muss daher nicht auf verschiedene Seiten gegangen werden, sondern eine einzige URL wird verwendet. \n",
    "\n",
    "Wie auch beim Scrapen von Immowelt, wird XPath verwendet. Es werden die effektiven Jahreszinsen für eine Sollzinsbindung von 5, 10, 15, 20 und 25 Jahren angezogen. Außerdem wird das aktuelle Datum mit Uhrzeit gescrapet, sodass später die Veränderung im Laufe der Zeit betrachtet werden kann."
   ]
  },
  {
   "cell_type": "code",
   "execution_count": 2,
   "metadata": {},
   "outputs": [
    {
     "name": "stdout",
     "output_type": "stream",
     "text": [
      "['3,40']\n",
      "['3,39']\n",
      "['3,43']\n",
      "['3,66']\n",
      "['3,90']\n",
      "['21.12.2022 16:30']\n"
     ]
    }
   ],
   "source": [
    "url = \"https://www.comdirect.de/kredit/bauzinsen.html#Bauzinsen\"\n",
    "\n",
    "page = requests.get(url)\n",
    "tree = html.fromstring(page.content)\n",
    "\n",
    "eff5 = tree.xpath('//div[@class=\"table__container--scroll\"]/table/tbody/tr[1]/td[4]/eff5/text()')\n",
    "eff10 = tree.xpath('//div[@class=\"table__container--scroll\"]/table/tbody/tr[2]/td[4]/eff10/text()')\n",
    "eff15 = tree.xpath('//div[@class=\"table__container--scroll\"]/table/tbody/tr[3]/td[4]/eff15/text()')\n",
    "eff20 = tree.xpath('//div[@class=\"table__container--scroll\"]/table/tbody/tr[4]/td[4]/eff20/text()')\n",
    "eff25 = tree.xpath('//div[@class=\"table__container--scroll\"]/table/tbody/tr[5]/td[4]/eff25/text()')\n",
    "\n",
    "stand = tree.xpath('//div[@class=\"col__content outer-spacing--xlarge-bottom\"]/p/date/text()')\n",
    "\n",
    "print(eff5)\n",
    "print(eff10)\n",
    "print(eff15)\n",
    "print(eff20)\n",
    "print(eff25)\n",
    "print(stand)"
   ]
  },
  {
   "attachments": {},
   "cell_type": "markdown",
   "metadata": {},
   "source": [
    "## 3. Umwandlung in Dataframe\n",
    "\n",
    "Die erhaltenen Werte werden nun in ein Pandas Dataframe umgewandelt, damit sie besser zu kombinieren und weiterverarbeiten sind. Zuerst wird eine Matrix erstellt, welche in der ersten Spalte die Dauer der Sollzinsbindung angibt, in der Zweiten den effektiven Jahreszins (gescrapte eff* Werte) und in der Dritten das Datum mit Uhrzeit."
   ]
  },
  {
   "cell_type": "code",
   "execution_count": 14,
   "metadata": {},
   "outputs": [],
   "source": [
    "matrix = [[0 for s in range(10)] for r in range(10)]\n",
    "\n",
    "matrix[0][0]=\"Sollzinsbindung\"\n",
    "matrix[0][1]=\"5 Jahre\"\n",
    "matrix[0][2]=\"10 Jahre\"\n",
    "matrix[0][3]=\"15 Jahre\"\n",
    "matrix[0][4]=\"20 Jahre\"\n",
    "matrix[0][5]=\"25 Jahre\"\n",
    "matrix[1][0]=\"Effektiver Jahreszins\"\n",
    "matrix[1][1]=eff5\n",
    "matrix[1][2]=eff10\n",
    "matrix[1][3]=eff15\n",
    "matrix[1][4]=eff20\n",
    "matrix[1][5]=eff25\n",
    "matrix[2][0]=\"Datenstand\"\n",
    "matrix[2][1]=stand\n",
    "matrix[2][2]=stand\n",
    "matrix[2][3]=stand\n",
    "matrix[2][4]=stand\n",
    "matrix[2][5]=stand\n",
    "\n"
   ]
  },
  {
   "attachments": {},
   "cell_type": "markdown",
   "metadata": {},
   "source": [
    "Die Umwandlung der Matrix in ein Dataframe wird wie beim Scraping von Immowelt umgesetzt."
   ]
  },
  {
   "cell_type": "code",
   "execution_count": 15,
   "metadata": {},
   "outputs": [],
   "source": [
    "data = {\n",
    "    'Sollzinsbindung': [],\n",
    "    'Effektiver Jahreszins': [],\n",
    "    'Datenstand': [],\n",
    "}\n",
    "\n",
    "for i in range(5):\n",
    "    data['Sollzinsbindung'].append(matrix[0][i+1])\n",
    "    data['Effektiver Jahreszins'].append(matrix[1][i+1])\n",
    "    data['Datenstand'].append(matrix[2][i+1])\n",
    "\n",
    "df=pd.DataFrame(data, columns=['Sollzinsbindung','Effektiver Jahreszins','Datenstand'])\n",
    "\n",
    "df.to_csv('Zinsen.csv')"
   ]
  },
  {
   "attachments": {},
   "cell_type": "markdown",
   "metadata": {},
   "source": [
    "Zuletzt wird überprüft, ob die Umwandlung korrekt funktioniert hat, indem das Dataframe angezeigt wird."
   ]
  },
  {
   "cell_type": "code",
   "execution_count": 16,
   "metadata": {},
   "outputs": [
    {
     "data": {
      "text/html": [
       "<div>\n",
       "<style scoped>\n",
       "    .dataframe tbody tr th:only-of-type {\n",
       "        vertical-align: middle;\n",
       "    }\n",
       "\n",
       "    .dataframe tbody tr th {\n",
       "        vertical-align: top;\n",
       "    }\n",
       "\n",
       "    .dataframe thead th {\n",
       "        text-align: right;\n",
       "    }\n",
       "</style>\n",
       "<table border=\"1\" class=\"dataframe\">\n",
       "  <thead>\n",
       "    <tr style=\"text-align: right;\">\n",
       "      <th></th>\n",
       "      <th>Sollzinsbindung</th>\n",
       "      <th>Effektiver Jahreszins</th>\n",
       "      <th>Datenstand</th>\n",
       "    </tr>\n",
       "  </thead>\n",
       "  <tbody>\n",
       "    <tr>\n",
       "      <th>0</th>\n",
       "      <td>5 Jahre</td>\n",
       "      <td>[3,40]</td>\n",
       "      <td>[21.12.2022 16:30]</td>\n",
       "    </tr>\n",
       "    <tr>\n",
       "      <th>1</th>\n",
       "      <td>10 Jahre</td>\n",
       "      <td>[3,39]</td>\n",
       "      <td>[21.12.2022 16:30]</td>\n",
       "    </tr>\n",
       "    <tr>\n",
       "      <th>2</th>\n",
       "      <td>15 Jahre</td>\n",
       "      <td>[3,43]</td>\n",
       "      <td>[21.12.2022 16:30]</td>\n",
       "    </tr>\n",
       "    <tr>\n",
       "      <th>3</th>\n",
       "      <td>20 Jahre</td>\n",
       "      <td>[3,66]</td>\n",
       "      <td>[21.12.2022 16:30]</td>\n",
       "    </tr>\n",
       "    <tr>\n",
       "      <th>4</th>\n",
       "      <td>25 Jahre</td>\n",
       "      <td>[3,90]</td>\n",
       "      <td>[21.12.2022 16:30]</td>\n",
       "    </tr>\n",
       "  </tbody>\n",
       "</table>\n",
       "</div>"
      ],
      "text/plain": [
       "  Sollzinsbindung Effektiver Jahreszins          Datenstand\n",
       "0         5 Jahre                [3,40]  [21.12.2022 16:30]\n",
       "1        10 Jahre                [3,39]  [21.12.2022 16:30]\n",
       "2        15 Jahre                [3,43]  [21.12.2022 16:30]\n",
       "3        20 Jahre                [3,66]  [21.12.2022 16:30]\n",
       "4        25 Jahre                [3,90]  [21.12.2022 16:30]"
      ]
     },
     "execution_count": 16,
     "metadata": {},
     "output_type": "execute_result"
    }
   ],
   "source": [
    "df"
   ]
  },
  {
   "attachments": {},
   "cell_type": "markdown",
   "metadata": {},
   "source": [
    "Die Umwandlung hat korrekt funktioniert. Dieser Code wird nun als Grundlage für das tägliche Webscraping verwendet."
   ]
  },
  {
   "cell_type": "markdown",
   "metadata": {},
   "source": []
  }
 ],
 "metadata": {
  "kernelspec": {
   "display_name": "Python 3",
   "language": "python",
   "name": "python3"
  },
  "language_info": {
   "codemirror_mode": {
    "name": "ipython",
    "version": 3
   },
   "file_extension": ".py",
   "mimetype": "text/x-python",
   "name": "python",
   "nbconvert_exporter": "python",
   "pygments_lexer": "ipython3",
   "version": "3.8.13 | packaged by conda-forge | (default, Mar 25 2022, 05:59:00) [MSC v.1929 64 bit (AMD64)]"
  },
  "orig_nbformat": 4,
  "vscode": {
   "interpreter": {
    "hash": "87d750519a60ddaa739ad00eb20324f07f8baeb3ee58ab9c2270171d7c6cc6c3"
   }
  }
 },
 "nbformat": 4,
 "nbformat_minor": 2
}
